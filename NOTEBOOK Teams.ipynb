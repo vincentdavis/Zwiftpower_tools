{
 "cells": [
  {
   "cell_type": "code",
   "execution_count": 2,
   "metadata": {
    "collapsed": true
   },
   "outputs": [
    {
     "name": "stdout",
     "output_type": "stream",
     "text": [
      "The autoreload extension is already loaded. To reload it, use:\n",
      "  %reload_ext autoreload\n"
     ]
    }
   ],
   "source": [
    "%load_ext autoreload\n",
    "%autoreload 2"
   ]
  },
  {
   "cell_type": "code",
   "execution_count": 108,
   "outputs": [],
   "source": [
    "from zpdatareader import FetchJson\n",
    "from ZFileDb import ZFileDb\n",
    "\n",
    "# Define the database\n",
    "db = ZFileDb(db_path=\"database/ZFileDb\")\n",
    "z = FetchJson(db=db)\n",
    "z.login()"
   ],
   "metadata": {
    "collapsed": false,
    "pycharm": {
     "name": "#%%\n"
    }
   }
  },
  {
   "cell_type": "code",
   "execution_count": 109,
   "outputs": [],
   "source": [
    "teams = z.fetch_teamlist()"
   ],
   "metadata": {
    "collapsed": false,
    "pycharm": {
     "name": "#%%\n"
    }
   }
  },
  {
   "cell_type": "code",
   "execution_count": 110,
   "outputs": [
    {
     "data": {
      "text/plain": "dict_keys(['zid', 'tstamp', 'teamlist'])"
     },
     "execution_count": 110,
     "metadata": {},
     "output_type": "execute_result"
    }
   ],
   "source": [
    "teams.keys()"
   ],
   "metadata": {
    "collapsed": false,
    "pycharm": {
     "name": "#%%\n"
    }
   }
  },
  {
   "cell_type": "code",
   "execution_count": 111,
   "outputs": [
    {
     "data": {
      "text/plain": "dict_keys(['tln', 'tag', 'team_id', 'riders', 'races', 'color', 'contact', 'name', 'aid', 'tid', 'tname', 'tc', 'tbc', 'tbd', 'flag', 'primary'])"
     },
     "execution_count": 111,
     "metadata": {},
     "output_type": "execute_result"
    }
   ],
   "source": [
    "# Fields in for each team based on first team\n",
    "teams['teamlist'][0].keys()"
   ],
   "metadata": {
    "collapsed": false,
    "pycharm": {
     "name": "#%%\n"
    }
   }
  },
  {
   "cell_type": "code",
   "execution_count": 117,
   "outputs": [],
   "source": [
    "teams['teamlist'] = sorted(teams['teamlist'], key = lambda x: x['riders'], reverse=True)"
   ],
   "metadata": {
    "collapsed": false,
    "pycharm": {
     "name": "#%%\n"
    }
   }
  },
  {
   "cell_type": "code",
   "execution_count": 121,
   "outputs": [],
   "source": [
    "t1 = z.fetch_team(teams['teamlist'][0]['team_id'])"
   ],
   "metadata": {
    "collapsed": false,
    "pycharm": {
     "name": "#%%\n"
    }
   }
  },
  {
   "cell_type": "code",
   "execution_count": null,
   "outputs": [],
   "source": [
    "import time\n",
    "for t in teams['teamlist'][100:200]:\n",
    "    z.fetch_team(t['team_id'])\n",
    "    time.sleep(15)"
   ],
   "metadata": {
    "collapsed": false,
    "pycharm": {
     "name": "#%%\n"
    }
   }
  },
  {
   "cell_type": "code",
   "execution_count": null,
   "outputs": [],
   "source": [],
   "metadata": {
    "collapsed": false,
    "pycharm": {
     "name": "#%%\n"
    }
   }
  },
  {
   "cell_type": "code",
   "execution_count": 112,
   "outputs": [],
   "source": [
    "def race_rider_ratio(team):\n",
    "    if team['races'] == '':\n",
    "        team['races'] = 0\n",
    "    else:\n",
    "        team['races'] = int(team['races'])\n",
    "    if team['riders'] == '':\n",
    "        team['riders'] = 0\n",
    "    else:\n",
    "        team['riders'] = int(team['riders'])\n",
    "    try:\n",
    "        return team['races']/team['riders']\n",
    "    except:\n",
    "        return 0\n",
    "\n",
    "temp_team = []\n",
    "for t in teams['teamlist']:\n",
    "    t['rrratio'] = race_rider_ratio(t)\n",
    "    temp_team.append(t)\n",
    "\n",
    "temp_team = sorted(temp_team, key = lambda x: x['rrratio'])"
   ],
   "metadata": {
    "collapsed": false,
    "pycharm": {
     "name": "#%%\n"
    }
   }
  },
  {
   "cell_type": "code",
   "execution_count": null,
   "outputs": [
    {
     "ename": "SyntaxError",
     "evalue": "invalid syntax (4094324419.py, line 2)",
     "output_type": "error",
     "traceback": [
      "\u001B[0;36m  File \u001B[0;32m\"/var/folders/ws/fxkt11312z72pj86tr26spfr0000gn/T/ipykernel_85993/4094324419.py\"\u001B[0;36m, line \u001B[0;32m2\u001B[0m\n\u001B[0;31m    import plotly as\u001B[0m\n\u001B[0m                    ^\u001B[0m\n\u001B[0;31mSyntaxError\u001B[0m\u001B[0;31m:\u001B[0m invalid syntax\n"
     ]
    }
   ],
   "source": [
    "import pandas as pd\n",
    "# import plotly as\n",
    "temp_team"
   ],
   "metadata": {
    "collapsed": false,
    "pycharm": {
     "name": "#%%\n"
    }
   }
  },
  {
   "cell_type": "code",
   "execution_count": 113,
   "outputs": [
    {
     "name": "stdout",
     "output_type": "stream",
     "text": [
      "{'tln': 'THE COALITION', 'tag': 'COALITION', 'team_id': '11991', 'riders': 600, 'races': 0, 'color': 'ffffff', 'contact': 'https://discord.gg/coalition', 'name': 'Rhys Howell (CANYON)', 'aid': 11849, 'tid': '', 'tname': '', 'tc': '', 'tbc': '', 'tbd': '', 'flag': 'gb-wls', 'primary': 0, 'rrratio': 0.0}\n",
      "{'tln': 'COALITION-ENIGMA', 'tag': 'Coalition-Enigma', 'team_id': '16605', 'riders': 6, 'races': 0, 'color': 'ffffff', 'contact': '', 'name': 'Alex Martins [COALITION] 🚂', 'aid': 53865, 'tid': '', 'tname': '', 'tc': '', 'tbc': '', 'tbd': '', 'flag': 'ca', 'primary': 0, 'rrratio': 0.0}\n",
      "{'tln': 'COALITION', 'tag': 'COALITION', 'team_id': '16851', 'riders': 0, 'races': 0, 'color': 'ffffff', 'contact': '', 'name': 'Richard Hinde (COALITION C)', 'aid': 413750, 'tid': '', 'tname': '', 'tc': '', 'tbc': '', 'tbd': '', 'flag': 'gb', 'primary': 0, 'rrratio': 0}\n",
      "{'tln': 'Coalition Epiphany', 'tag': 'CoEpiph', 'team_id': '17316', 'riders': 6, 'races': 0, 'color': 'ffffff', 'contact': '', 'name': 'Leo P. [COALITION]', 'aid': 3933964, 'tid': '', 'tname': '', 'tc': '', 'tbc': '', 'tbd': '', 'flag': 'us', 'primary': 0, 'rrratio': 0.0}\n",
      "{'tln': 'Westcoast Coalition', 'tag': 'WCC', 'team_id': '17367', 'riders': 6, 'races': 0, 'color': 'ffffff', 'contact': '', 'name': 'Dawn-Marie Barreira', 'aid': 499328, 'tid': '', 'tname': '', 'tc': '', 'tbc': '', 'tbd': '', 'flag': 'ca', 'primary': 0, 'rrratio': 0.0}\n",
      "{'tln': 'EXODUS COALITION', 'tag': 'EXO', 'team_id': '2752', 'riders': 1, 'races': 15, 'color': 'ffffff', 'contact': '', 'name': 'Daniel Rockliff (TFC Mirage)', 'aid': 23601, 'tid': '', 'tname': '', 'tc': '', 'tbc': '', 'tbd': '', 'flag': 'gb-eng', 'primary': 0, 'rrratio': 15.0}\n"
     ]
    }
   ],
   "source": [
    "\n",
    "for t in temp_team:\n",
    "    if 'coalition' in t['tln'].lower():\n",
    "        print(t)"
   ],
   "metadata": {
    "collapsed": false,
    "pycharm": {
     "name": "#%%\n"
    }
   }
  },
  {
   "cell_type": "code",
   "execution_count": 99,
   "outputs": [
    {
     "data": {
      "text/plain": "184"
     },
     "execution_count": 99,
     "metadata": {},
     "output_type": "execute_result"
    }
   ],
   "source": [
    "len(no_riders)"
   ],
   "metadata": {
    "collapsed": false,
    "pycharm": {
     "name": "#%%\n"
    }
   }
  },
  {
   "cell_type": "code",
   "execution_count": 89,
   "outputs": [
    {
     "name": "stdout",
     "output_type": "stream",
     "text": [
      "{'aid': 75456,\n",
      " 'color': 'ffffff',\n",
      " 'contact': 'www.rocketcityvelo.com',\n",
      " 'flag': 'us',\n",
      " 'name': 'C Johns (USAC 443801)',\n",
      " 'primary': 0,\n",
      " 'races': 246,\n",
      " 'riders': 6,\n",
      " 'tag': 'RKT CTY VLO',\n",
      " 'tbc': '',\n",
      " 'tbd': '',\n",
      " 'tc': '',\n",
      " 'team_id': '2427',\n",
      " 'tid': '',\n",
      " 'tln': 'Rocket City Velosport',\n",
      " 'tname': ''}\n"
     ]
    }
   ],
   "source": [
    "from pprint import pprint\n",
    "pprint(teams['teamlist'][650])"
   ],
   "metadata": {
    "collapsed": false,
    "pycharm": {
     "name": "#%%\n"
    }
   }
  },
  {
   "cell_type": "code",
   "execution_count": null,
   "outputs": [],
   "source": [],
   "metadata": {
    "collapsed": false,
    "pycharm": {
     "name": "#%%\n"
    }
   }
  }
 ],
 "metadata": {
  "kernelspec": {
   "display_name": "Python 3",
   "language": "python",
   "name": "python3"
  },
  "language_info": {
   "codemirror_mode": {
    "name": "ipython",
    "version": 2
   },
   "file_extension": ".py",
   "mimetype": "text/x-python",
   "name": "python",
   "nbconvert_exporter": "python",
   "pygments_lexer": "ipython2",
   "version": "2.7.6"
  }
 },
 "nbformat": 4,
 "nbformat_minor": 0
}