{
 "cells": [
  {
   "cell_type": "markdown",
   "metadata": {
    "collapsed": true,
    "pycharm": {
     "name": "#%% md\n"
    }
   },
   "source": []
  },
  {
   "cell_type": "markdown",
   "source": [
    "## Setup and login\n",
    "Make sure to have a config.ini fole with login details"
   ],
   "metadata": {
    "collapsed": false,
    "pycharm": {
     "name": "#%% md\n"
    }
   }
  },
  {
   "cell_type": "code",
   "execution_count": 1,
   "outputs": [
    {
     "name": "stdout",
     "output_type": "stream",
     "text": [
      "22f254774e19c9f891b2cd26e408fdb8\n"
     ]
    }
   ],
   "source": [
    "from get_data import fetch_json, zdatabase\n",
    "db = zdatabase(db_path=\"database/z_database.json\")\n",
    "z = fetch_json()\n",
    "z.login()"
   ],
   "metadata": {
    "collapsed": false,
    "pycharm": {
     "name": "#%%\n"
    }
   }
  },
  {
   "cell_type": "markdown",
   "source": [
    "## Get event result and plot\n",
    "The results are cached in the database."
   ],
   "metadata": {
    "collapsed": false,
    "pycharm": {
     "name": "#%% md\n"
    }
   }
  },
  {
   "cell_type": "code",
   "execution_count": 2,
   "outputs": [],
   "source": [
    "team_data = z.fetch_team(zid=11991)"
   ],
   "metadata": {
    "collapsed": false,
    "pycharm": {
     "name": "#%%\n"
    }
   }
  },
  {
   "cell_type": "code",
   "execution_count": 12,
   "outputs": [],
   "source": [
    "import pandas as pd\n",
    "td = pd.DataFrame(team_data['team'])"
   ],
   "metadata": {
    "collapsed": false,
    "pycharm": {
     "name": "#%%\n"
    }
   }
  },
  {
   "cell_type": "code",
   "execution_count": 94,
   "outputs": [
    {
     "data": {
      "text/plain": "   div  divw flag    r  ftp                               name       aid  age  \\\n0   30    20   ca   67  178   Joanna Begg Pattison (COALITION)            50+   \n1   20    10   us   13  262          1.Lena Breuer [COALITION]  68797868  Snr   \n2   30     0   us  109  239           Aaron Towers [COALITION]  44020002  Snr   \n3   30     0   us    1  214                    Adam Jones 2513            Mas   \n4   20     0   be   11  300          Alex Thumwood (COALITION)            Snr   \n\n   zada     w  ... skill_seg  skill_power     zwid  status  reg  email  \\\n0     0  54.0  ...      2177         1695  1703891            1          \n1     0  65.1  ...      2611         2451  3567768            1          \n2     0  77.0  ...      2304         2034  2936879            1          \n3     0  80.7  ...         0         1567  1726390            1          \n4     0  80.0  ...      1945         2381  3563615            1          \n\n   h_1200_watts  h_1200_wkg  h_15_watts  h_15_wkg  \n0           187         3.5         318       5.9  \n1           275         4.2         709      10.9  \n2           238         3.1         696       9.0  \n3           225         2.8         268       3.3  \n4           315         3.9         699       8.7  \n\n[5 rows x 27 columns]",
      "text/html": "<div>\n<style scoped>\n    .dataframe tbody tr th:only-of-type {\n        vertical-align: middle;\n    }\n\n    .dataframe tbody tr th {\n        vertical-align: top;\n    }\n\n    .dataframe thead th {\n        text-align: right;\n    }\n</style>\n<table border=\"1\" class=\"dataframe\">\n  <thead>\n    <tr style=\"text-align: right;\">\n      <th></th>\n      <th>div</th>\n      <th>divw</th>\n      <th>flag</th>\n      <th>r</th>\n      <th>ftp</th>\n      <th>name</th>\n      <th>aid</th>\n      <th>age</th>\n      <th>zada</th>\n      <th>w</th>\n      <th>...</th>\n      <th>skill_seg</th>\n      <th>skill_power</th>\n      <th>zwid</th>\n      <th>status</th>\n      <th>reg</th>\n      <th>email</th>\n      <th>h_1200_watts</th>\n      <th>h_1200_wkg</th>\n      <th>h_15_watts</th>\n      <th>h_15_wkg</th>\n    </tr>\n  </thead>\n  <tbody>\n    <tr>\n      <th>0</th>\n      <td>30</td>\n      <td>20</td>\n      <td>ca</td>\n      <td>67</td>\n      <td>178</td>\n      <td>Joanna Begg Pattison (COALITION)</td>\n      <td></td>\n      <td>50+</td>\n      <td>0</td>\n      <td>54.0</td>\n      <td>...</td>\n      <td>2177</td>\n      <td>1695</td>\n      <td>1703891</td>\n      <td></td>\n      <td>1</td>\n      <td></td>\n      <td>187</td>\n      <td>3.5</td>\n      <td>318</td>\n      <td>5.9</td>\n    </tr>\n    <tr>\n      <th>1</th>\n      <td>20</td>\n      <td>10</td>\n      <td>us</td>\n      <td>13</td>\n      <td>262</td>\n      <td>1.Lena Breuer [COALITION]</td>\n      <td>68797868</td>\n      <td>Snr</td>\n      <td>0</td>\n      <td>65.1</td>\n      <td>...</td>\n      <td>2611</td>\n      <td>2451</td>\n      <td>3567768</td>\n      <td></td>\n      <td>1</td>\n      <td></td>\n      <td>275</td>\n      <td>4.2</td>\n      <td>709</td>\n      <td>10.9</td>\n    </tr>\n    <tr>\n      <th>2</th>\n      <td>30</td>\n      <td>0</td>\n      <td>us</td>\n      <td>109</td>\n      <td>239</td>\n      <td>Aaron Towers [COALITION]</td>\n      <td>44020002</td>\n      <td>Snr</td>\n      <td>0</td>\n      <td>77.0</td>\n      <td>...</td>\n      <td>2304</td>\n      <td>2034</td>\n      <td>2936879</td>\n      <td></td>\n      <td>1</td>\n      <td></td>\n      <td>238</td>\n      <td>3.1</td>\n      <td>696</td>\n      <td>9.0</td>\n    </tr>\n    <tr>\n      <th>3</th>\n      <td>30</td>\n      <td>0</td>\n      <td>us</td>\n      <td>1</td>\n      <td>214</td>\n      <td>Adam Jones 2513</td>\n      <td></td>\n      <td>Mas</td>\n      <td>0</td>\n      <td>80.7</td>\n      <td>...</td>\n      <td>0</td>\n      <td>1567</td>\n      <td>1726390</td>\n      <td></td>\n      <td>1</td>\n      <td></td>\n      <td>225</td>\n      <td>2.8</td>\n      <td>268</td>\n      <td>3.3</td>\n    </tr>\n    <tr>\n      <th>4</th>\n      <td>20</td>\n      <td>0</td>\n      <td>be</td>\n      <td>11</td>\n      <td>300</td>\n      <td>Alex Thumwood (COALITION)</td>\n      <td></td>\n      <td>Snr</td>\n      <td>0</td>\n      <td>80.0</td>\n      <td>...</td>\n      <td>1945</td>\n      <td>2381</td>\n      <td>3563615</td>\n      <td></td>\n      <td>1</td>\n      <td></td>\n      <td>315</td>\n      <td>3.9</td>\n      <td>699</td>\n      <td>8.7</td>\n    </tr>\n  </tbody>\n</table>\n<p>5 rows × 27 columns</p>\n</div>"
     },
     "execution_count": 94,
     "metadata": {},
     "output_type": "execute_result"
    }
   ],
   "source": [
    "td = pd.DataFrame(team_data['team'])\n",
    "def splitlist(df, col):\n",
    "    df[[col, '_temp_']] = df[col].tolist()\n",
    "    df.drop('_temp_', axis=1, inplace=True)\n",
    "splitlist(td, 'ftp')\n",
    "splitlist(td, 'w')\n",
    "td['r'].replace('', 0, inplace=True)\n",
    "td['ftp'].replace('', 0, inplace=True)\n",
    "td['r'] = td['r'].astype(int)\n",
    "td['ftp'] = td['ftp'].astype(int)\n",
    "td.head()\n",
    "\n"
   ],
   "metadata": {
    "collapsed": false,
    "pycharm": {
     "name": "#%%\n"
    }
   }
  },
  {
   "cell_type": "code",
   "execution_count": 48,
   "outputs": [
    {
     "data": {
      "text/plain": "<AxesSubplot:>"
     },
     "execution_count": 48,
     "metadata": {},
     "output_type": "execute_result"
    },
    {
     "data": {
      "text/plain": "<Figure size 432x288 with 1 Axes>",
      "image/png": "[encoded data removed]"
     },
     "metadata": {
      "needs_background": "light"
     },
     "output_type": "display_data"
    }
   ],
   "source": [
    "td['div'].hist()"
   ],
   "metadata": {
    "collapsed": false,
    "pycharm": {
     "name": "#%%\n"
    }
   }
  },
  {
   "cell_type": "code",
   "execution_count": 52,
   "outputs": [
    {
     "data": {
      "text/plain": "20    166\n30    159\n10     84\n0      74\n40     51\n5      21\nName: div, dtype: int64"
     },
     "execution_count": 52,
     "metadata": {},
     "output_type": "execute_result"
    }
   ],
   "source": [
    "td['div'].value_counts()"
   ],
   "metadata": {
    "collapsed": false,
    "pycharm": {
     "name": "#%%\n"
    }
   }
  },
  {
   "cell_type": "code",
   "execution_count": 61,
   "outputs": [
    {
     "data": {
      "text/plain": "     div  divw    flag    r  ftp                               name       aid  \\\n61     5     0      et    1  420                    Nurhussen Ahmed             \n97     5     0  gb-sct  153  328             Aaron Hunt (COALITION)  48287933   \n106    5     0      au  132  357          Aiden Sinclair (CANYON) 🦁   2099899   \n110    5     0      ca  168  325          Alex Banville [COALITION]  12190207   \n142    5     0      gb    9  370  Archie Atkinson (GB C5 Para) 7792             \n152    5     0      be  107  356       Bart Vral (Canyon Coalition)   1395403   \n190    5     0      at  130  330   Christian Pollhammer [COALITION]  22745505   \n237    5     0  gb-wls  107  305          Ethan Browne (CANYON DEV)             \n251    5     0      za  236  340                       Gary Muller     340782   \n284    5     0      im   58  330                    James  Harrison             \n288    5     0  gb-wls  413  382                    James Phillips    2158460   \n326    5     0      ca  299  336         Justin Purificati (Canyon)    353467   \n341    5     0      be  191  342        Kjell Power | The Coalition   3939462   \n350    5     0      hr  335  407            Lionel Vujasin (CANYON)     10377   \n357    5     0      tt  135  420          Lucas Byam 🦂 (CANYON DEV)  23961642   \n422    5     0      de  146  333           Moritz Lupp [CN!D] [RWB]  32916157   \n440    5     0      gb  205  390          Ollie Peckover (SKYLAB)🔰    3270032   \n444    5     0      be   35  360      P. Vernier [CANYON COALITION]   8730745   \n466    5     0      pl    3  303                    Przemek Walczak             \n474    5     0  gb-wls  124  425   Rhys Howells 🚛(CANYON Coalition)    222335   \n488    5     0      us  207  381                        Ryan Fiege              \n\n     age  zada     w  ... skill_seg  skill_power     zwid     status  reg  \\\n61   Jnr     0  77.1  ...         0         3503  4451828               1   \n97   Jnr     0  64.7  ...      3230         2997  1600621  Moderator    1   \n106  Jnr     0  59.8  ...      3253         3187   361665               1   \n110  Snr     0  68.2  ...      3199         2951   505185               1   \n142  Jnr     0  61.0  ...       967         2663   913027               1   \n152  Mas     0  70.0  ...      2543         2945   693450               1   \n190  Mas     0  69.7  ...      2892         2869   413118               1   \n237  U23     0  58.0  ...       855         2503   294744               1   \n251  Mas     0  70.1  ...      3195         3230   369571               1   \n284  U23     0  64.0  ...      2481         2776   585117               1   \n288  Mas    -1  78.0  ...      3039         3200   280522               1   \n326  Mas    -1  64.0  ...         0            0    52048               1   \n341  Snr     0  58.1  ...      3410         3420   684221               1   \n350  Mas    -1  69.4  ...      3413         3516   311597               1   \n357  Jnr     0  71.0  ...      2755         3013   631761               1   \n422  U23     0  66.0  ...      3253         3281  1365478               1   \n440  Snr     0  76.0  ...      3033         3246   382994               1   \n444  U23     0  67.0  ...      2771         3026  1231726               1   \n466  Snr     0  75.0  ...       456         2299  2499236               1   \n474  Mas     0  88.0  ...      3131         3213  1002594               1   \n488  Vet     0  77.0  ...      3237         3060   131660               1   \n\n     email  h_1200_watts  h_1200_wkg  h_15_watts  h_15_wkg  \n61                   442         5.7       1,033      13.4  \n97                   331         5.0         917      14.1  \n106                  326         5.3         915      15.0  \n110                  333         5.0         819      12.2  \n142                  299         5.1         618      10.5  \n152                  365         5.2         838      12.0  \n190                  327         4.7         730      10.5  \n237                  273         4.9         646      11.1  \n251                  358         5.0       1,007      14.2  \n284                  306         4.8       1,035      16.2  \n288                  361         4.6       1,191      15.3  \n326                  NaN         NaN         NaN       NaN  \n341                  359         6.4       1,064      18.7  \n350                  408         5.8       1,049      15.1  \n357                  317         4.5       1,166      16.5  \n422                  350         5.3         991      15.2  \n440                  384         5.1         948      12.5  \n444                  352         5.3         926      13.8  \n466                  289         4.0         494       6.5  \n474                  446         5.1       1,099      12.5  \n488                  381         4.9         991      12.9  \n\n[21 rows x 27 columns]",
      "text/html": "<div>\n<style scoped>\n    .dataframe tbody tr th:only-of-type {\n        vertical-align: middle;\n    }\n\n    .dataframe tbody tr th {\n        vertical-align: top;\n    }\n\n    .dataframe thead th {\n        text-align: right;\n    }\n</style>\n<table border=\"1\" class=\"dataframe\">\n  <thead>\n    <tr style=\"text-align: right;\">\n      <th></th>\n      <th>div</th>\n      <th>divw</th>\n      <th>flag</th>\n      <th>r</th>\n      <th>ftp</th>\n      <th>name</th>\n      <th>aid</th>\n      <th>age</th>\n      <th>zada</th>\n      <th>w</th>\n      <th>...</th>\n      <th>skill_seg</th>\n      <th>skill_power</th>\n      <th>zwid</th>\n      <th>status</th>\n      <th>reg</th>\n      <th>email</th>\n      <th>h_1200_watts</th>\n      <th>h_1200_wkg</th>\n      <th>h_15_watts</th>\n      <th>h_15_wkg</th>\n    </tr>\n  </thead>\n  <tbody>\n    <tr>\n      <th>61</th>\n      <td>5</td>\n      <td>0</td>\n      <td>et</td>\n      <td>1</td>\n      <td>420</td>\n      <td>Nurhussen Ahmed</td>\n      <td></td>\n      <td>Jnr</td>\n      <td>0</td>\n      <td>77.1</td>\n      <td>...</td>\n      <td>0</td>\n      <td>3503</td>\n      <td>4451828</td>\n      <td></td>\n      <td>1</td>\n      <td></td>\n      <td>442</td>\n      <td>5.7</td>\n      <td>1,033</td>\n      <td>13.4</td>\n    </tr>\n    <tr>\n      <th>97</th>\n      <td>5</td>\n      <td>0</td>\n      <td>gb-sct</td>\n      <td>153</td>\n      <td>328</td>\n      <td>Aaron Hunt (COALITION)</td>\n      <td>48287933</td>\n      <td>Jnr</td>\n      <td>0</td>\n      <td>64.7</td>\n      <td>...</td>\n      <td>3230</td>\n      <td>2997</td>\n      <td>1600621</td>\n      <td>Moderator</td>\n      <td>1</td>\n      <td></td>\n      <td>331</td>\n      <td>5.0</td>\n      <td>917</td>\n      <td>14.1</td>\n    </tr>\n    <tr>\n      <th>106</th>\n      <td>5</td>\n      <td>0</td>\n      <td>au</td>\n      <td>132</td>\n      <td>357</td>\n      <td>Aiden Sinclair (CANYON) 🦁</td>\n      <td>2099899</td>\n      <td>Jnr</td>\n      <td>0</td>\n      <td>59.8</td>\n      <td>...</td>\n      <td>3253</td>\n      <td>3187</td>\n      <td>361665</td>\n      <td></td>\n      <td>1</td>\n      <td></td>\n      <td>326</td>\n      <td>5.3</td>\n      <td>915</td>\n      <td>15.0</td>\n    </tr>\n    <tr>\n      <th>110</th>\n      <td>5</td>\n      <td>0</td>\n      <td>ca</td>\n      <td>168</td>\n      <td>325</td>\n      <td>Alex Banville [COALITION]</td>\n      <td>12190207</td>\n      <td>Snr</td>\n      <td>0</td>\n      <td>68.2</td>\n      <td>...</td>\n      <td>3199</td>\n      <td>2951</td>\n      <td>505185</td>\n      <td></td>\n      <td>1</td>\n      <td></td>\n      <td>333</td>\n      <td>5.0</td>\n      <td>819</td>\n      <td>12.2</td>\n    </tr>\n    <tr>\n      <th>142</th>\n      <td>5</td>\n      <td>0</td>\n      <td>gb</td>\n      <td>9</td>\n      <td>370</td>\n      <td>Archie Atkinson (GB C5 Para) 7792</td>\n      <td></td>\n      <td>Jnr</td>\n      <td>0</td>\n      <td>61.0</td>\n      <td>...</td>\n      <td>967</td>\n      <td>2663</td>\n      <td>913027</td>\n      <td></td>\n      <td>1</td>\n      <td></td>\n      <td>299</td>\n      <td>5.1</td>\n      <td>618</td>\n      <td>10.5</td>\n    </tr>\n    <tr>\n      <th>152</th>\n      <td>5</td>\n      <td>0</td>\n      <td>be</td>\n      <td>107</td>\n      <td>356</td>\n      <td>Bart Vral (Canyon Coalition)</td>\n      <td>1395403</td>\n      <td>Mas</td>\n      <td>0</td>\n      <td>70.0</td>\n      <td>...</td>\n      <td>2543</td>\n      <td>2945</td>\n      <td>693450</td>\n      <td></td>\n      <td>1</td>\n      <td></td>\n      <td>365</td>\n      <td>5.2</td>\n      <td>838</td>\n      <td>12.0</td>\n    </tr>\n    <tr>\n      <th>190</th>\n      <td>5</td>\n      <td>0</td>\n      <td>at</td>\n      <td>130</td>\n      <td>330</td>\n      <td>Christian Pollhammer [COALITION]</td>\n      <td>22745505</td>\n      <td>Mas</td>\n      <td>0</td>\n      <td>69.7</td>\n      <td>...</td>\n      <td>2892</td>\n      <td>2869</td>\n      <td>413118</td>\n      <td></td>\n      <td>1</td>\n      <td></td>\n      <td>327</td>\n      <td>4.7</td>\n      <td>730</td>\n      <td>10.5</td>\n    </tr>\n    <tr>\n      <th>237</th>\n      <td>5</td>\n      <td>0</td>\n      <td>gb-wls</td>\n      <td>107</td>\n      <td>305</td>\n      <td>Ethan Browne (CANYON DEV)</td>\n      <td></td>\n      <td>U23</td>\n      <td>0</td>\n      <td>58.0</td>\n      <td>...</td>\n      <td>855</td>\n      <td>2503</td>\n      <td>294744</td>\n      <td></td>\n      <td>1</td>\n      <td></td>\n      <td>273</td>\n      <td>4.9</td>\n      <td>646</td>\n      <td>11.1</td>\n    </tr>\n    <tr>\n      <th>251</th>\n      <td>5</td>\n      <td>0</td>\n      <td>za</td>\n      <td>236</td>\n      <td>340</td>\n      <td>Gary Muller</td>\n      <td>340782</td>\n      <td>Mas</td>\n      <td>0</td>\n      <td>70.1</td>\n      <td>...</td>\n      <td>3195</td>\n      <td>3230</td>\n      <td>369571</td>\n      <td></td>\n      <td>1</td>\n      <td></td>\n      <td>358</td>\n      <td>5.0</td>\n      <td>1,007</td>\n      <td>14.2</td>\n    </tr>\n    <tr>\n      <th>284</th>\n      <td>5</td>\n      <td>0</td>\n      <td>im</td>\n      <td>58</td>\n      <td>330</td>\n      <td>James  Harrison</td>\n      <td></td>\n      <td>U23</td>\n      <td>0</td>\n      <td>64.0</td>\n      <td>...</td>\n      <td>2481</td>\n      <td>2776</td>\n      <td>585117</td>\n      <td></td>\n      <td>1</td>\n      <td></td>\n      <td>306</td>\n      <td>4.8</td>\n      <td>1,035</td>\n      <td>16.2</td>\n    </tr>\n    <tr>\n      <th>288</th>\n      <td>5</td>\n      <td>0</td>\n      <td>gb-wls</td>\n      <td>413</td>\n      <td>382</td>\n      <td>James Phillips</td>\n      <td>2158460</td>\n      <td>Mas</td>\n      <td>-1</td>\n      <td>78.0</td>\n      <td>...</td>\n      <td>3039</td>\n      <td>3200</td>\n      <td>280522</td>\n      <td></td>\n      <td>1</td>\n      <td></td>\n      <td>361</td>\n      <td>4.6</td>\n      <td>1,191</td>\n      <td>15.3</td>\n    </tr>\n    <tr>\n      <th>326</th>\n      <td>5</td>\n      <td>0</td>\n      <td>ca</td>\n      <td>299</td>\n      <td>336</td>\n      <td>Justin Purificati (Canyon)</td>\n      <td>353467</td>\n      <td>Mas</td>\n      <td>-1</td>\n      <td>64.0</td>\n      <td>...</td>\n      <td>0</td>\n      <td>0</td>\n      <td>52048</td>\n      <td></td>\n      <td>1</td>\n      <td></td>\n      <td>NaN</td>\n      <td>NaN</td>\n      <td>NaN</td>\n      <td>NaN</td>\n    </tr>\n    <tr>\n      <th>341</th>\n      <td>5</td>\n      <td>0</td>\n      <td>be</td>\n      <td>191</td>\n      <td>342</td>\n      <td>Kjell Power | The Coalition</td>\n      <td>3939462</td>\n      <td>Snr</td>\n      <td>0</td>\n      <td>58.1</td>\n      <td>...</td>\n      <td>3410</td>\n      <td>3420</td>\n      <td>684221</td>\n      <td></td>\n      <td>1</td>\n      <td></td>\n      <td>359</td>\n      <td>6.4</td>\n      <td>1,064</td>\n      <td>18.7</td>\n    </tr>\n    <tr>\n      <th>350</th>\n      <td>5</td>\n      <td>0</td>\n      <td>hr</td>\n      <td>335</td>\n      <td>407</td>\n      <td>Lionel Vujasin (CANYON)</td>\n      <td>10377</td>\n      <td>Mas</td>\n      <td>-1</td>\n      <td>69.4</td>\n      <td>...</td>\n      <td>3413</td>\n      <td>3516</td>\n      <td>311597</td>\n      <td></td>\n      <td>1</td>\n      <td></td>\n      <td>408</td>\n      <td>5.8</td>\n      <td>1,049</td>\n      <td>15.1</td>\n    </tr>\n    <tr>\n      <th>357</th>\n      <td>5</td>\n      <td>0</td>\n      <td>tt</td>\n      <td>135</td>\n      <td>420</td>\n      <td>Lucas Byam 🦂 (CANYON DEV)</td>\n      <td>23961642</td>\n      <td>Jnr</td>\n      <td>0</td>\n      <td>71.0</td>\n      <td>...</td>\n      <td>2755</td>\n      <td>3013</td>\n      <td>631761</td>\n      <td></td>\n      <td>1</td>\n      <td></td>\n      <td>317</td>\n      <td>4.5</td>\n      <td>1,166</td>\n      <td>16.5</td>\n    </tr>\n    <tr>\n      <th>422</th>\n      <td>5</td>\n      <td>0</td>\n      <td>de</td>\n      <td>146</td>\n      <td>333</td>\n      <td>Moritz Lupp [CN!D] [RWB]</td>\n      <td>32916157</td>\n      <td>U23</td>\n      <td>0</td>\n      <td>66.0</td>\n      <td>...</td>\n      <td>3253</td>\n      <td>3281</td>\n      <td>1365478</td>\n      <td></td>\n      <td>1</td>\n      <td></td>\n      <td>350</td>\n      <td>5.3</td>\n      <td>991</td>\n      <td>15.2</td>\n    </tr>\n    <tr>\n      <th>440</th>\n      <td>5</td>\n      <td>0</td>\n      <td>gb</td>\n      <td>205</td>\n      <td>390</td>\n      <td>Ollie Peckover (SKYLAB)🔰</td>\n      <td>3270032</td>\n      <td>Snr</td>\n      <td>0</td>\n      <td>76.0</td>\n      <td>...</td>\n      <td>3033</td>\n      <td>3246</td>\n      <td>382994</td>\n      <td></td>\n      <td>1</td>\n      <td></td>\n      <td>384</td>\n      <td>5.1</td>\n      <td>948</td>\n      <td>12.5</td>\n    </tr>\n    <tr>\n      <th>444</th>\n      <td>5</td>\n      <td>0</td>\n      <td>be</td>\n      <td>35</td>\n      <td>360</td>\n      <td>P. Vernier [CANYON COALITION]</td>\n      <td>8730745</td>\n      <td>U23</td>\n      <td>0</td>\n      <td>67.0</td>\n      <td>...</td>\n      <td>2771</td>\n      <td>3026</td>\n      <td>1231726</td>\n      <td></td>\n      <td>1</td>\n      <td></td>\n      <td>352</td>\n      <td>5.3</td>\n      <td>926</td>\n      <td>13.8</td>\n    </tr>\n    <tr>\n      <th>466</th>\n      <td>5</td>\n      <td>0</td>\n      <td>pl</td>\n      <td>3</td>\n      <td>303</td>\n      <td>Przemek Walczak</td>\n      <td></td>\n      <td>Snr</td>\n      <td>0</td>\n      <td>75.0</td>\n      <td>...</td>\n      <td>456</td>\n      <td>2299</td>\n      <td>2499236</td>\n      <td></td>\n      <td>1</td>\n      <td></td>\n      <td>289</td>\n      <td>4.0</td>\n      <td>494</td>\n      <td>6.5</td>\n    </tr>\n    <tr>\n      <th>474</th>\n      <td>5</td>\n      <td>0</td>\n      <td>gb-wls</td>\n      <td>124</td>\n      <td>425</td>\n      <td>Rhys Howells 🚛(CANYON Coalition)</td>\n      <td>222335</td>\n      <td>Mas</td>\n      <td>0</td>\n      <td>88.0</td>\n      <td>...</td>\n      <td>3131</td>\n      <td>3213</td>\n      <td>1002594</td>\n      <td></td>\n      <td>1</td>\n      <td></td>\n      <td>446</td>\n      <td>5.1</td>\n      <td>1,099</td>\n      <td>12.5</td>\n    </tr>\n    <tr>\n      <th>488</th>\n      <td>5</td>\n      <td>0</td>\n      <td>us</td>\n      <td>207</td>\n      <td>381</td>\n      <td>Ryan Fiege</td>\n      <td></td>\n      <td>Vet</td>\n      <td>0</td>\n      <td>77.0</td>\n      <td>...</td>\n      <td>3237</td>\n      <td>3060</td>\n      <td>131660</td>\n      <td></td>\n      <td>1</td>\n      <td></td>\n      <td>381</td>\n      <td>4.9</td>\n      <td>991</td>\n      <td>12.9</td>\n    </tr>\n  </tbody>\n</table>\n<p>21 rows × 27 columns</p>\n</div>"
     },
     "execution_count": 61,
     "metadata": {},
     "output_type": "execute_result"
    }
   ],
   "source": [
    "td[td['div']==5]"
   ],
   "metadata": {
    "collapsed": false,
    "pycharm": {
     "name": "#%%\n"
    }
   }
  },
  {
   "cell_type": "code",
   "execution_count": 82,
   "outputs": [],
   "source": [
    "td.sort_values(by='r', inplace=True)"
   ],
   "metadata": {
    "collapsed": false,
    "pycharm": {
     "name": "#%%\n"
    }
   }
  },
  {
   "cell_type": "code",
   "execution_count": 106,
   "outputs": [
    {
     "data": {
      "text/plain": "<AxesSubplot:>"
     },
     "execution_count": 106,
     "metadata": {},
     "output_type": "execute_result"
    },
    {
     "data": {
      "text/plain": "<Figure size 432x288 with 1 Axes>",
      "image/png": "[encoded data removed]"
     },
     "metadata": {
      "needs_background": "light"
     },
     "output_type": "display_data"
    }
   ],
   "source": [
    "# td.sort_values(by='ftp', inplace=True)\n",
    "# td.reset_index(inplace=True)\n",
    "td[td['ftp']>0][['ftp', 'age']].plot()"
   ],
   "metadata": {
    "collapsed": false,
    "pycharm": {
     "name": "#%%\n"
    }
   }
  }
 ],
 "metadata": {
  "kernelspec": {
   "display_name": "Python 3",
   "language": "python",
   "name": "python3"
  },
  "language_info": {
   "codemirror_mode": {
    "name": "ipython",
    "version": 2
   },
   "file_extension": ".py",
   "mimetype": "text/x-python",
   "name": "python",
   "nbconvert_exporter": "python",
   "pygments_lexer": "ipython2",
   "version": "2.7.6"
  }
 },
 "nbformat": 4,
 "nbformat_minor": 0
}