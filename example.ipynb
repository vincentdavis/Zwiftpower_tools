{
 "cells": [
  {
   "cell_type": "markdown",
   "metadata": {
    "collapsed": true,
    "pycharm": {
     "name": "#%% md\n"
    }
   },
   "source": []
  },
  {
   "cell_type": "markdown",
   "source": [
    "## Setup and login\n",
    "- Define the database backend. Local json files is the default.\n",
    "- Inititize FetchJson\n",
    "- login, Make sure to have a config.ini configured"
   ],
   "metadata": {
    "collapsed": false
   }
  },
  {
   "cell_type": "code",
   "execution_count": 1,
   "outputs": [],
   "source": [
    "from zpdatareader import FetchJson\n",
    "from ZFileDb import ZFileDb\n",
    "\n",
    "# Define the database\n",
    "db = ZFileDb(db_path=\"database/ZFileDb\")\n",
    "z = FetchJson(db=db)\n",
    "z.login()"
   ],
   "metadata": {
    "collapsed": false,
    "pycharm": {
     "name": "#%%\n"
    }
   }
  },
  {
   "cell_type": "markdown",
   "source": [],
   "metadata": {
    "collapsed": false
   }
  },
  {
   "cell_type": "markdown",
   "source": [
    "## Get event result and plot\n",
    "- All API reusts are cached into local TinyDB database by default.\n",
    "- The api data is not proccessed.\n",
    "- If multiple APIs are present they are combined"
   ],
   "metadata": {
    "collapsed": false,
    "pycharm": {
     "name": "#%% md\n"
    }
   }
  },
  {
   "cell_type": "code",
   "execution_count": 7,
   "outputs": [
    {
     "name": "stdout",
     "output_type": "stream",
     "text": [
      "Cache or refresh: cache\n",
      "Event ID, 'zid' is: 2552316\n",
      "Top level data in JSON: dict_keys(['zid', 'timestamp', 'view_data', 'zwift_data'])\n",
      "Top five\n",
      "1: Seigo. Ito[TKB] with a time of 4894.206\n",
      "2: Alexander Bojsen [ACR] with a time of 4896.972\n",
      "3: Nicolas  Rou  with a time of 4897.824\n",
      "4: Oscar Feldfos with a time of 4898.2\n",
      "5: Anders Broberg[SZ](UMARA) with a time of 4898.256\n"
     ]
    }
   ],
   "source": [
    "result, status = z.fetch_result(zid=2552316)\n",
    "print(f\"Cache or refresh: {status}\")\n",
    "print(f\"Event ID, 'zid' is: {result['zid']}\")\n",
    "print(f\"Top level data in JSON: {result.keys()}\")\n",
    "print(\"Top five\")\n",
    "for racer in result['zwift_data'][:5]:\n",
    "    if int(racer['pos']) <=5:\n",
    "        print(f\"{racer['pos']}: {racer['name']} with a time of {racer['race_time'][0]}\")"
   ],
   "metadata": {
    "collapsed": false,
    "pycharm": {
     "name": "#%%\n"
    }
   }
  },
  {
   "cell_type": "markdown",
   "source": [
    "##Getting started with analysis\n",
    "- Tools for this will be added in the future\n",
    "- Many columns are a list of two values with the second=0 use splitlist()\n",
    "- Many integer columns have blank \"\" values that mayb better be 0"
   ],
   "metadata": {
    "collapsed": false,
    "pycharm": {
     "name": "#%% md\n"
    }
   }
  },
  {
   "cell_type": "code",
   "execution_count": 8,
   "outputs": [
    {
     "data": {
      "text/plain": "  DT_RowId                       name watts   wkg       bpm  hrm  \\\n0   270093            Seigo. Ito[TKB]   240  4.07  [131, 0]    1   \n1   131584     Alexander Bojsen [ACR]   300  3.84  [149, 0]    1   \n2   845655              Nicolas  Rou    288  4.06  [169, 0]    1   \n3  2818577              Oscar Feldfos   226  4.01  [169, 0]    1   \n4   407765  Anders Broberg[SZ](UMARA)   310  3.88  [140, 0]    1   \n\n       race_time  time_diff     zwid label dq_cat pos  power_type wkg_ftp  \\\n0  [4894.206, 1]      0.000   270093     1          1           3    4.15   \n1  [4896.972, 0]      2.766   131584     1          2           3    3.92   \n2  [4897.824, 0]      3.618   845655     1          3           3    4.14   \n3    [4898.2, 0]      3.994  2818577     1          4           3    4.10   \n4  [4898.256, 0]      4.050   407765     1          5           3    3.96   \n\n  wkg1200 lagp events  \n0  [0, 0]              \n1  [0, 0]              \n2  [0, 0]              \n3  [0, 0]              \n4  [0, 0]              ",
      "text/html": "<div>\n<style scoped>\n    .dataframe tbody tr th:only-of-type {\n        vertical-align: middle;\n    }\n\n    .dataframe tbody tr th {\n        vertical-align: top;\n    }\n\n    .dataframe thead th {\n        text-align: right;\n    }\n</style>\n<table border=\"1\" class=\"dataframe\">\n  <thead>\n    <tr style=\"text-align: right;\">\n      <th></th>\n      <th>DT_RowId</th>\n      <th>name</th>\n      <th>watts</th>\n      <th>wkg</th>\n      <th>bpm</th>\n      <th>hrm</th>\n      <th>race_time</th>\n      <th>time_diff</th>\n      <th>zwid</th>\n      <th>label</th>\n      <th>dq_cat</th>\n      <th>pos</th>\n      <th>power_type</th>\n      <th>wkg_ftp</th>\n      <th>wkg1200</th>\n      <th>lagp</th>\n      <th>events</th>\n    </tr>\n  </thead>\n  <tbody>\n    <tr>\n      <th>0</th>\n      <td>270093</td>\n      <td>Seigo. Ito[TKB]</td>\n      <td>240</td>\n      <td>4.07</td>\n      <td>[131, 0]</td>\n      <td>1</td>\n      <td>[4894.206, 1]</td>\n      <td>0.000</td>\n      <td>270093</td>\n      <td>1</td>\n      <td></td>\n      <td>1</td>\n      <td>3</td>\n      <td>4.15</td>\n      <td>[0, 0]</td>\n      <td></td>\n      <td></td>\n    </tr>\n    <tr>\n      <th>1</th>\n      <td>131584</td>\n      <td>Alexander Bojsen [ACR]</td>\n      <td>300</td>\n      <td>3.84</td>\n      <td>[149, 0]</td>\n      <td>1</td>\n      <td>[4896.972, 0]</td>\n      <td>2.766</td>\n      <td>131584</td>\n      <td>1</td>\n      <td></td>\n      <td>2</td>\n      <td>3</td>\n      <td>3.92</td>\n      <td>[0, 0]</td>\n      <td></td>\n      <td></td>\n    </tr>\n    <tr>\n      <th>2</th>\n      <td>845655</td>\n      <td>Nicolas  Rou</td>\n      <td>288</td>\n      <td>4.06</td>\n      <td>[169, 0]</td>\n      <td>1</td>\n      <td>[4897.824, 0]</td>\n      <td>3.618</td>\n      <td>845655</td>\n      <td>1</td>\n      <td></td>\n      <td>3</td>\n      <td>3</td>\n      <td>4.14</td>\n      <td>[0, 0]</td>\n      <td></td>\n      <td></td>\n    </tr>\n    <tr>\n      <th>3</th>\n      <td>2818577</td>\n      <td>Oscar Feldfos</td>\n      <td>226</td>\n      <td>4.01</td>\n      <td>[169, 0]</td>\n      <td>1</td>\n      <td>[4898.2, 0]</td>\n      <td>3.994</td>\n      <td>2818577</td>\n      <td>1</td>\n      <td></td>\n      <td>4</td>\n      <td>3</td>\n      <td>4.10</td>\n      <td>[0, 0]</td>\n      <td></td>\n      <td></td>\n    </tr>\n    <tr>\n      <th>4</th>\n      <td>407765</td>\n      <td>Anders Broberg[SZ](UMARA)</td>\n      <td>310</td>\n      <td>3.88</td>\n      <td>[140, 0]</td>\n      <td>1</td>\n      <td>[4898.256, 0]</td>\n      <td>4.050</td>\n      <td>407765</td>\n      <td>1</td>\n      <td></td>\n      <td>5</td>\n      <td>3</td>\n      <td>3.96</td>\n      <td>[0, 0]</td>\n      <td></td>\n      <td></td>\n    </tr>\n  </tbody>\n</table>\n</div>"
     },
     "execution_count": 8,
     "metadata": {},
     "output_type": "execute_result"
    }
   ],
   "source": [
    "import pandas as pd\n",
    "df = pd.DataFrame(result['zwift_data'])\n",
    "\n",
    "def splitlist(df, col, drop2=True):\n",
    "    df[[f'{col}', f'{col}_2' ]] = df[col].tolist()\n",
    "    if drop2:\n",
    "        df.drop(f'{col}_2', axis=1, inplace=True)\n",
    "\n",
    "splitlist(df, 'watts')\n",
    "splitlist(df, 'wkg')\n",
    "splitlist(df, 'wkg_ftp')\n",
    "\n",
    "df.head()"
   ],
   "metadata": {
    "collapsed": false,
    "pycharm": {
     "name": "#%%\n"
    }
   }
  },
  {
   "cell_type": "code",
   "execution_count": 9,
   "outputs": [],
   "source": [
    "df[['watts', 'wkg', 'wkg_ftp']] = df[['watts', 'wkg', 'wkg_ftp']].astype(float)"
   ],
   "metadata": {
    "collapsed": false,
    "pycharm": {
     "name": "#%%\n"
    }
   }
  },
  {
   "cell_type": "code",
   "execution_count": 10,
   "outputs": [
    {
     "data": {
      "text/plain": "<AxesSubplot:>"
     },
     "execution_count": 10,
     "metadata": {},
     "output_type": "execute_result"
    },
    {
     "data": {
      "text/plain": "<Figure size 432x288 with 1 Axes>",
      "image/png": "[encoded data removed]"
     },
     "metadata": {
      "needs_background": "light"
     },
     "output_type": "display_data"
    }
   ],
   "source": [
    "df[['wkg', 'wkg_ftp']].plot()"
   ],
   "metadata": {
    "collapsed": false,
    "pycharm": {
     "name": "#%%\n"
    }
   }
  },
  {
   "cell_type": "code",
   "execution_count": null,
   "outputs": [],
   "source": [],
   "metadata": {
    "collapsed": false,
    "pycharm": {
     "name": "#%%\n"
    }
   }
  }
 ],
 "metadata": {
  "kernelspec": {
   "display_name": "Python 3",
   "language": "python",
   "name": "python3"
  },
  "language_info": {
   "codemirror_mode": {
    "name": "ipython",
    "version": 2
   },
   "file_extension": ".py",
   "mimetype": "text/x-python",
   "name": "python",
   "nbconvert_exporter": "python",
   "pygments_lexer": "ipython2",
   "version": "2.7.6"
  }
 },
 "nbformat": 4,
 "nbformat_minor": 0
}