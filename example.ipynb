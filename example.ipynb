{
 "cells": [
  {
   "cell_type": "markdown",
   "metadata": {
    "collapsed": true,
    "pycharm": {
     "name": "#%% md\n"
    }
   },
   "source": []
  },
  {
   "cell_type": "markdown",
   "source": [
    "## Setup and login\n",
    "- Define the database backend. This is the default.\n",
    "- Inititize FetchJson\n",
    "- login, Make sure to have a config.ini configured"
   ],
   "metadata": {
    "collapsed": false
   }
  },
  {
   "cell_type": "code",
   "execution_count": null,
   "outputs": [],
   "source": [
    "from zpdatareader import FetchJson, ZDatabase\n",
    "# Define the database\n",
    "db = ZDatabase(db_path=\"database/z_database.json\")\n",
    "z = FetchJson(db=db)\n",
    "z.login()"
   ],
   "metadata": {
    "collapsed": false,
    "pycharm": {
     "name": "#%%\n",
     "is_executing": true
    }
   }
  },
  {
   "cell_type": "markdown",
   "source": [],
   "metadata": {
    "collapsed": false
   }
  },
  {
   "cell_type": "markdown",
   "source": [
    "## Get event result and plot\n",
    "- All API reusts are cached into local TinyDB database by default.\n",
    "- The api data is not proccessed.\n",
    "- If multiple APIs are present they are combined"
   ],
   "metadata": {
    "collapsed": false,
    "pycharm": {
     "name": "#%% md\n"
    }
   }
  },
  {
   "cell_type": "code",
   "execution_count": null,
   "outputs": [],
   "source": [
    "result = z.fetch_result(zid=2552316)\n",
    "print(f\"Event ID, 'zid' is: {result['zid']}\")\n",
    "print(f\"Top level data in JSON: {result.keys()}\")\n",
    "print(\"Top five\")\n",
    "for racer in result['zwift_data'][:5]:\n",
    "    if int(racer['pos']) <=5:\n",
    "        print(f\"{racer['pos']}: {racer['name']} with a time of {racer['race_time'][0]}\")"
   ],
   "metadata": {
    "collapsed": false,
    "pycharm": {
     "name": "#%%\n"
    }
   }
  },
  {
   "cell_type": "markdown",
   "source": [
    "##Getting started with analysis\n",
    "- Tools for this will be added in the future\n",
    "- Many columns are a list of two values with the second=0 use splitlist()\n",
    "- Many integer columns have blank \"\" values that mayb better be 0"
   ],
   "metadata": {
    "collapsed": false,
    "pycharm": {
     "name": "#%% md\n"
    }
   }
  },
  {
   "cell_type": "code",
   "execution_count": null,
   "outputs": [],
   "source": [
    "import pandas as pd\n",
    "df = pd.DataFrame(result['zwift_data'])\n",
    "\n",
    "def splitlist(df, col, drop2=True):\n",
    "    df[[f'{col}', f'{col}_2' ]] = df[col].tolist()\n",
    "    if drop2:\n",
    "        df.drop(f'{col}_2', axis=1, inplace=True)\n",
    "\n",
    "splitlist(df, 'watts')\n",
    "splitlist(df, 'wkg')\n",
    "splitlist(df, 'wkg_ftp')\n",
    "\n",
    "df.head()"
   ],
   "metadata": {
    "collapsed": false,
    "pycharm": {
     "name": "#%%\n"
    }
   }
  },
  {
   "cell_type": "code",
   "execution_count": null,
   "outputs": [],
   "source": [
    "df[['watts', 'wkg', 'wkg_ftp']] = df[['watts', 'wkg', 'wkg_ftp']].astype(float)"
   ],
   "metadata": {
    "collapsed": false,
    "pycharm": {
     "name": "#%%\n"
    }
   }
  },
  {
   "cell_type": "code",
   "execution_count": null,
   "outputs": [],
   "source": [
    "df[['wkg', 'wkg_ftp']].plot()"
   ],
   "metadata": {
    "collapsed": false,
    "pycharm": {
     "name": "#%%\n"
    }
   }
  }
 ],
 "metadata": {
  "kernelspec": {
   "display_name": "Python 3",
   "language": "python",
   "name": "python3"
  },
  "language_info": {
   "codemirror_mode": {
    "name": "ipython",
    "version": 2
   },
   "file_extension": ".py",
   "mimetype": "text/x-python",
   "name": "python",
   "nbconvert_exporter": "python",
   "pygments_lexer": "ipython2",
   "version": "2.7.6"
  }
 },
 "nbformat": 4,
 "nbformat_minor": 0
}