{
 "cells": [
  {
   "cell_type": "code",
   "execution_count": null,
   "metadata": {
    "collapsed": true,
    "pycharm": {
     "is_executing": true
    }
   },
   "outputs": [],
   "source": [
    "%load_ext autoreload\n",
    "%autoreload 2\n",
    "\n",
    "from zpdatareader import FetchJson, ZDatabase\n",
    "# from tinyDb import ZDatabase\n",
    "\n",
    "# Define the database\n",
    "db = ZDatabase(db_path=\"database/z_database.json\")\n",
    "z = FetchJson(db=db)\n",
    "z.login()"
   ]
  },
  {
   "cell_type": "code",
   "execution_count": 2,
   "outputs": [],
   "source": [
    "someteam = z.fetch_team(zid=XXX)"
   ],
   "metadata": {
    "collapsed": false,
    "pycharm": {
     "name": "#%%\n"
    }
   }
  },
  {
   "cell_type": "code",
   "execution_count": null,
   "outputs": [],
   "source": [
    "import time\n",
    "rider_detail = []\n",
    "failed = []\n",
    "count = 0\n",
    "for r in someteam['team']:\n",
    "    print(f\"{count}: Getting {r['zwid']}: {r['name']}\")\n",
    "    try:\n",
    "        detail = z.fetch_profile(zid=r['zwid'])['pall'][0]\n",
    "        rider_detail.append(detail)\n",
    "    except:\n",
    "        failed.append({'zwid': r['zwid'], 'name': r['name']})\n",
    "        print(f\"     ##### FAILED: Getting {r['zwid']}: {r['name']}\")\n",
    "    print(f\"{count}: {detail['name']}: {detail['tname']}\")\n",
    "    count += 1\n",
    "    if count > 149:\n",
    "        time.sleep(3)"
   ],
   "metadata": {
    "collapsed": false,
    "pycharm": {
     "name": "#%%\n",
     "is_executing": true
    }
   }
  },
  {
   "cell_type": "code",
   "execution_count": 4,
   "outputs": [],
   "source": [
    "import json\n",
    "with open(SOME NAME, 'w') as j:\n",
    "    json.dump(rider_detail, j)"
   ],
   "metadata": {
    "collapsed": false,
    "pycharm": {
     "name": "#%%\n"
    }
   }
  },
  {
   "cell_type": "code",
   "execution_count": 9,
   "outputs": [],
   "source": [
    "import pandas as pd\n",
    "df = pd.DataFrame(rider_detail)\n",
    "df.to_excel('SOME NAME.xlsx')"
   ],
   "metadata": {
    "collapsed": false,
    "pycharm": {
     "name": "#%%\n"
    }
   }
  },
  {
   "cell_type": "code",
   "execution_count": 11,
   "outputs": [],
   "source": [
    "import pandas as pd\n",
    "df = pd.DataFrame(failed)\n",
    "df.to_excel('SOME NAME.xlsx')"
   ],
   "metadata": {
    "collapsed": false,
    "pycharm": {
     "name": "#%%\n"
    }
   }
  }
 ],
 "metadata": {
  "kernelspec": {
   "display_name": "Python 3",
   "language": "python",
   "name": "python3"
  },
  "language_info": {
   "codemirror_mode": {
    "name": "ipython",
    "version": 2
   },
   "file_extension": ".py",
   "mimetype": "text/x-python",
   "name": "python",
   "nbconvert_exporter": "python",
   "pygments_lexer": "ipython2",
   "version": "2.7.6"
  }
 },
 "nbformat": 4,
 "nbformat_minor": 0
}