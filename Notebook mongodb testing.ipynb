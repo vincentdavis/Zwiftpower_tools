{
 "cells": [
  {
   "cell_type": "code",
   "execution_count": null,
   "metadata": {
    "collapsed": true
   },
   "outputs": [],
   "source": [
    "import configparser\n",
    "import pymongo\n",
    "from pymongo import MongoClient\n",
    "try:\n",
    "    config = configparser.ConfigParser()\n",
    "    config.read('config.ini')\n",
    "    mongoauth = config['MONGODB']['auth']\n",
    "except Exception as e:\n",
    "    print('login: Need a proper config.ini file or supply auth info')\n",
    "    raise e\n",
    "\n",
    "client = MongoClient(mongoauth, tlsCAFile=\"zwift-WTRL mongodb ca-certificate.cer\")\n",
    "db = client['zwiftandmore']\n",
    "Result_view = db['Result_view']\n",
    "Result_view.insert_one(result['view_data'][0])\n",
    "print(result['view_data'][0]['name'], result['view_data'][0]['pos'])\n",
    "Result_view.insert_one(result['view_data'][1])\n",
    "print(result['view_data'][1]['name'], result['view_data'][1]['pos'])\n",
    "Result_view.insert_one(result['view_data'][2])\n",
    "print(result['view_data'][2]['name'], result['view_data'][2]['pos'])\n",
    "\n",
    "# db.Collection('Result_View', create=False)\n",
    "\n",
    "dblist = client.list_database_names()\n",
    "if \"zwiftandmore\" in dblist:\n",
    "  print(\"The database exists.\")\n",
    "print(db.list_collection_names())"
   ]
  },
  {
   "cell_type": "code",
   "execution_count": null,
   "outputs": [],
   "source": [
    "Result_view.find_one()"
   ],
   "metadata": {
    "collapsed": false,
    "pycharm": {
     "name": "#%%\n"
    }
   }
  },
  {
   "cell_type": "code",
   "execution_count": null,
   "outputs": [],
   "source": [
    "import pymongo\n",
    "# Result_view.getLastInsertedDocument.find({'zid':'2545506'}).sort({'_id':-1}).limit(1)\n",
    "r = Result_view.find_one({'zid': '2545506'},sort=[( '_id', pymongo.DESCENDING )])\n",
    "print(r['name'], r['pos'])"
   ],
   "metadata": {
    "collapsed": false,
    "pycharm": {
     "name": "#%%\n"
    }
   }
  },
  {
   "cell_type": "code",
   "execution_count": null,
   "outputs": [],
   "source": [
    "Result_view.delete_one(Result_view.find_one())"
   ],
   "metadata": {
    "collapsed": false,
    "pycharm": {
     "name": "#%%\n"
    }
   }
  }
 ],
 "metadata": {
  "kernelspec": {
   "display_name": "Python 3",
   "language": "python",
   "name": "python3"
  },
  "language_info": {
   "codemirror_mode": {
    "name": "ipython",
    "version": 2
   },
   "file_extension": ".py",
   "mimetype": "text/x-python",
   "name": "python",
   "nbconvert_exporter": "python",
   "pygments_lexer": "ipython2",
   "version": "2.7.6"
  }
 },
 "nbformat": 4,
 "nbformat_minor": 0
}