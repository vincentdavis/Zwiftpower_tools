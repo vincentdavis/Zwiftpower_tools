{
 "cells": [
  {
   "cell_type": "markdown",
   "source": [
    "## Setup and login\n",
    "- Define the database backend. Local json files is the default.\n",
    "- Inititize FetchJson\n",
    "- login, Make sure to have a config.ini configured"
   ],
   "metadata": {
    "collapsed": false
   }
  },
  {
   "cell_type": "code",
   "execution_count": 1,
   "outputs": [],
   "source": [
    "from fetch import FetchJson\n",
    "from ZFileDb import ZFileDb\n",
    "\n",
    "# Define the database\n",
    "db = ZFileDb(db_path=\"/Volumes/GoogleDrive/My Drive/ZWIFT/DATABASE/ZFileDb\")\n",
    "z = FetchJson(db=db)\n",
    "z.login()"
   ],
   "metadata": {
    "collapsed": false,
    "pycharm": {
     "name": "#%%\n"
    }
   }
  },
  {
   "cell_type": "markdown",
   "source": [
    "## Get event result and plot\n",
    "- All API reusts are cached into local TinyDB database by default.\n",
    "- The api data is not proccessed.\n",
    "- If multiple APIs are present they are combined"
   ],
   "metadata": {
    "collapsed": false,
    "pycharm": {
     "name": "#%% md\n"
    }
   }
  },
  {
   "cell_type": "code",
   "execution_count": 7,
   "outputs": [
    {
     "name": "stdout",
     "output_type": "stream",
     "text": [
      "Cache or refresh: cache\n",
      "Event ID, 'zid' is: 2552316\n",
      "Top level data in JSON: dict_keys(['zid', 'timestamp', 'view_data', 'zwift_data'])\n",
      "Top five\n",
      "1: Seigo. Ito[TKB] with a time of 4894.206\n",
      "2: Alexander Bojsen [ACR] with a time of 4896.972\n",
      "3: Nicolas  Rou  with a time of 4897.824\n",
      "4: Oscar Feldfos with a time of 4898.2\n",
      "5: Anders Broberg[SZ](UMARA) with a time of 4898.256\n"
     ]
    }
   ],
   "source": [
    "result, status = z.fetch_result(zid=2552316)\n",
    "print(f\"Cache or refresh: {status}\")\n",
    "print(f\"Event ID, 'zid' is: {result['zid']}\")\n",
    "print(f\"Top level data in JSON: {result.keys()}\")\n",
    "print(\"Top five\")\n",
    "for racer in result['zwift_data'][:5]:\n",
    "    if int(racer['pos']) <=5:\n",
    "        print(f\"{racer['pos']}: {racer['name']} with a time of {racer['race_time'][0]}\")"
   ],
   "metadata": {
    "collapsed": false,
    "pycharm": {
     "name": "#%%\n"
    }
   }
  },
  {
   "cell_type": "markdown",
   "source": [
    "##Getting started with analysis\n",
    "- Tools for this will be added in the future\n",
    "- Many columns are a list of two values with the second=0 use splitlist()\n",
    "- Many integer columns have blank \"\" values that mayb better be 0"
   ],
   "metadata": {
    "collapsed": false,
    "pycharm": {
     "name": "#%% md\n"
    }
   }
  },
  {
   "cell_type": "code",
   "execution_count": 8,
   "outputs": [
    {
     "data": {
      "text/plain": "  DT_RowId                       name watts   wkg       bpm  hrm  \\\n0   270093            Seigo. Ito[TKB]   240  4.07  [131, 0]    1   \n1   131584     Alexander Bojsen [ACR]   300  3.84  [149, 0]    1   \n2   845655              Nicolas  Rou    288  4.06  [169, 0]    1   \n3  2818577              Oscar Feldfos   226  4.01  [169, 0]    1   \n4   407765  Anders Broberg[SZ](UMARA)   310  3.88  [140, 0]    1   \n\n       race_time  time_diff     zwid label dq_cat pos  power_type wkg_ftp  \\\n0  [4894.206, 1]      0.000   270093     1          1           3    4.15   \n1  [4896.972, 0]      2.766   131584     1          2           3    3.92   \n2  [4897.824, 0]      3.618   845655     1          3           3    4.14   \n3    [4898.2, 0]      3.994  2818577     1          4           3    4.10   \n4  [4898.256, 0]      4.050   407765     1          5           3    3.96   \n\n  wkg1200 lagp events  \n0  [0, 0]              \n1  [0, 0]              \n2  [0, 0]              \n3  [0, 0]              \n4  [0, 0]              ",
      "text/html": "<div>\n<style scoped>\n    .dataframe tbody tr th:only-of-type {\n        vertical-align: middle;\n    }\n\n    .dataframe tbody tr th {\n        vertical-align: top;\n    }\n\n    .dataframe thead th {\n        text-align: right;\n    }\n</style>\n<table border=\"1\" class=\"dataframe\">\n  <thead>\n    <tr style=\"text-align: right;\">\n      <th></th>\n      <th>DT_RowId</th>\n      <th>name</th>\n      <th>watts</th>\n      <th>wkg</th>\n      <th>bpm</th>\n      <th>hrm</th>\n      <th>race_time</th>\n      <th>time_diff</th>\n      <th>zwid</th>\n      <th>label</th>\n      <th>dq_cat</th>\n      <th>pos</th>\n      <th>power_type</th>\n      <th>wkg_ftp</th>\n      <th>wkg1200</th>\n      <th>lagp</th>\n      <th>events</th>\n    </tr>\n  </thead>\n  <tbody>\n    <tr>\n      <th>0</th>\n      <td>270093</td>\n      <td>Seigo. Ito[TKB]</td>\n      <td>240</td>\n      <td>4.07</td>\n      <td>[131, 0]</td>\n      <td>1</td>\n      <td>[4894.206, 1]</td>\n      <td>0.000</td>\n      <td>270093</td>\n      <td>1</td>\n      <td></td>\n      <td>1</td>\n      <td>3</td>\n      <td>4.15</td>\n      <td>[0, 0]</td>\n      <td></td>\n      <td></td>\n    </tr>\n    <tr>\n      <th>1</th>\n      <td>131584</td>\n      <td>Alexander Bojsen [ACR]</td>\n      <td>300</td>\n      <td>3.84</td>\n      <td>[149, 0]</td>\n      <td>1</td>\n      <td>[4896.972, 0]</td>\n      <td>2.766</td>\n      <td>131584</td>\n      <td>1</td>\n      <td></td>\n      <td>2</td>\n      <td>3</td>\n      <td>3.92</td>\n      <td>[0, 0]</td>\n      <td></td>\n      <td></td>\n    </tr>\n    <tr>\n      <th>2</th>\n      <td>845655</td>\n      <td>Nicolas  Rou</td>\n      <td>288</td>\n      <td>4.06</td>\n      <td>[169, 0]</td>\n      <td>1</td>\n      <td>[4897.824, 0]</td>\n      <td>3.618</td>\n      <td>845655</td>\n      <td>1</td>\n      <td></td>\n      <td>3</td>\n      <td>3</td>\n      <td>4.14</td>\n      <td>[0, 0]</td>\n      <td></td>\n      <td></td>\n    </tr>\n    <tr>\n      <th>3</th>\n      <td>2818577</td>\n      <td>Oscar Feldfos</td>\n      <td>226</td>\n      <td>4.01</td>\n      <td>[169, 0]</td>\n      <td>1</td>\n      <td>[4898.2, 0]</td>\n      <td>3.994</td>\n      <td>2818577</td>\n      <td>1</td>\n      <td></td>\n      <td>4</td>\n      <td>3</td>\n      <td>4.10</td>\n      <td>[0, 0]</td>\n      <td></td>\n      <td></td>\n    </tr>\n    <tr>\n      <th>4</th>\n      <td>407765</td>\n      <td>Anders Broberg[SZ](UMARA)</td>\n      <td>310</td>\n      <td>3.88</td>\n      <td>[140, 0]</td>\n      <td>1</td>\n      <td>[4898.256, 0]</td>\n      <td>4.050</td>\n      <td>407765</td>\n      <td>1</td>\n      <td></td>\n      <td>5</td>\n      <td>3</td>\n      <td>3.96</td>\n      <td>[0, 0]</td>\n      <td></td>\n      <td></td>\n    </tr>\n  </tbody>\n</table>\n</div>"
     },
     "execution_count": 8,
     "metadata": {},
     "output_type": "execute_result"
    }
   ],
   "source": [
    "import pandas as pd\n",
    "df = pd.DataFrame(result['zwift_data'])\n",
    "\n",
    "def splitlist(df, col, drop2=True):\n",
    "    df[[f'{col}', f'{col}_2' ]] = df[col].tolist()\n",
    "    if drop2:\n",
    "        df.drop(f'{col}_2', axis=1, inplace=True)\n",
    "\n",
    "splitlist(df, 'watts')\n",
    "splitlist(df, 'wkg')\n",
    "splitlist(df, 'wkg_ftp')\n",
    "\n",
    "df.head()"
   ],
   "metadata": {
    "collapsed": false,
    "pycharm": {
     "name": "#%%\n"
    }
   }
  },
  {
   "cell_type": "code",
   "execution_count": 9,
   "outputs": [],
   "source": [
    "df[['watts', 'wkg', 'wkg_ftp']] = df[['watts', 'wkg', 'wkg_ftp']].astype(float)"
   ],
   "metadata": {
    "collapsed": false,
    "pycharm": {
     "name": "#%%\n"
    }
   }
  },
  {
   "cell_type": "code",
   "execution_count": 10,
   "outputs": [
    {
     "data": {
      "text/plain": "<AxesSubplot:>"
     },
     "execution_count": 10,
     "metadata": {},
     "output_type": "execute_result"
    },
    {
     "data": {
      "text/plain": "<Figure size 432x288 with 1 Axes>",
      "image/png": "[encoded data removed]"
     },
     "metadata": {
      "needs_background": "light"
     },
     "output_type": "display_data"
    }
   ],
   "source": [
    "df[['wkg', 'wkg_ftp']].plot()"
   ],
   "metadata": {
    "collapsed": false,
    "pycharm": {
     "name": "#%%\n"
    }
   }
  },
  {
   "cell_type": "code",
   "execution_count": 210,
   "outputs": [
    {
     "name": "stdout",
     "output_type": "stream",
     "text": [
      "The autoreload extension is already loaded. To reload it, use:\n",
      "  %reload_ext autoreload\n"
     ]
    }
   ],
   "source": [
    "%load_ext autoreload\n",
    "%autoreload 2\n",
    "from fetch import FetchJson\n",
    "from ZFileDb import ZFileDb\n",
    "# Define the database\n",
    "db = ZFileDb(db_path=\"/Volumes/GoogleDrive/My Drive/ZWIFT/DATABASE/ZFileDb\")\n",
    "z = FetchJson(db=db)\n",
    "z.login()"
   ],
   "metadata": {
    "collapsed": false,
    "pycharm": {
     "name": "#%%\n"
    }
   }
  },
  {
   "cell_type": "code",
   "execution_count": 211,
   "outputs": [
    {
     "name": "stdout",
     "output_type": "stream",
     "text": [
      "Riders count: 0\n",
      "Riders count: 1\n",
      "Riders count: 2\n",
      "Riders count: 3\n",
      "Riders count: 4\n",
      "Riders count: 5\n",
      "Riders count: 6\n",
      "Riders count: 7\n",
      "Riders count: 8\n",
      "Riders count: 9\n",
      "Riders count: 10\n",
      "Riders count: 11\n",
      "Riders count: 12\n",
      "Riders count: 13\n",
      "Riders count: 14\n",
      "Riders count: 15\n",
      "Riders count: 16\n"
     ]
    },
    {
     "ename": "KeyboardInterrupt",
     "evalue": "",
     "output_type": "error",
     "traceback": [
      "\u001B[0;31m---------------------------------------------------------------------------\u001B[0m",
      "\u001B[0;31mKeyboardInterrupt\u001B[0m                         Traceback (most recent call last)",
      "\u001B[0;32m/var/folders/ws/fxkt11312z72pj86tr26spfr0000gn/T/ipykernel_75798/3834234336.py\u001B[0m in \u001B[0;36m<module>\u001B[0;34m\u001B[0m\n\u001B[1;32m      5\u001B[0m \u001B[0;32mfor\u001B[0m \u001B[0mr\u001B[0m \u001B[0;32min\u001B[0m \u001B[0mtriders\u001B[0m\u001B[0;34m[\u001B[0m\u001B[0;34m'team'\u001B[0m\u001B[0;34m]\u001B[0m\u001B[0;34m:\u001B[0m\u001B[0;34m\u001B[0m\u001B[0;34m\u001B[0m\u001B[0m\n\u001B[1;32m      6\u001B[0m     \u001B[0;31m# print(r)\u001B[0m\u001B[0;34m\u001B[0m\u001B[0;34m\u001B[0m\u001B[0m\n\u001B[0;32m----> 7\u001B[0;31m     \u001B[0mp\u001B[0m \u001B[0;34m=\u001B[0m \u001B[0mz\u001B[0m\u001B[0;34m.\u001B[0m\u001B[0mfetch_profile\u001B[0m\u001B[0;34m(\u001B[0m\u001B[0mr\u001B[0m\u001B[0;34m[\u001B[0m\u001B[0;34m'zwid'\u001B[0m\u001B[0;34m]\u001B[0m\u001B[0;34m,\u001B[0m \u001B[0mprofile_ext\u001B[0m\u001B[0;34m=\u001B[0m\u001B[0;32mTrue\u001B[0m\u001B[0;34m,\u001B[0m \u001B[0mrefresh\u001B[0m\u001B[0;34m=\u001B[0m\u001B[0;32mTrue\u001B[0m\u001B[0;34m)\u001B[0m\u001B[0;34m\u001B[0m\u001B[0;34m\u001B[0m\u001B[0m\n\u001B[0m\u001B[1;32m      8\u001B[0m     \u001B[0mprint\u001B[0m\u001B[0;34m(\u001B[0m\u001B[0;34mf\"Riders count: {count}\"\u001B[0m\u001B[0;34m)\u001B[0m\u001B[0;34m\u001B[0m\u001B[0;34m\u001B[0m\u001B[0m\n\u001B[1;32m      9\u001B[0m     \u001B[0mcount\u001B[0m \u001B[0;34m+=\u001B[0m \u001B[0;36m1\u001B[0m\u001B[0;34m\u001B[0m\u001B[0;34m\u001B[0m\u001B[0m\n",
      "\u001B[0;32m~/REPO/Zwiftpower_tools/fetch.py\u001B[0m in \u001B[0;36mfetch_profile\u001B[0;34m(self, zid, profile_ext, refresh)\u001B[0m\n\u001B[1;32m    201\u001B[0m             \u001B[0;32mif\u001B[0m \u001B[0mprofile_ext\u001B[0m\u001B[0;34m:\u001B[0m\u001B[0;34m\u001B[0m\u001B[0;34m\u001B[0m\u001B[0m\n\u001B[1;32m    202\u001B[0m                 \u001B[0;32mtry\u001B[0m\u001B[0;34m:\u001B[0m\u001B[0;34m\u001B[0m\u001B[0;34m\u001B[0m\u001B[0m\n\u001B[0;32m--> 203\u001B[0;31m                     \u001B[0mprofile_ext_data\u001B[0m \u001B[0;34m=\u001B[0m \u001B[0mself\u001B[0m\u001B[0;34m.\u001B[0m\u001B[0mfetch_profile_ext\u001B[0m\u001B[0;34m(\u001B[0m\u001B[0mzwid\u001B[0m \u001B[0;34m=\u001B[0m \u001B[0mzid\u001B[0m\u001B[0;34m)\u001B[0m\u001B[0;34m\u001B[0m\u001B[0;34m\u001B[0m\u001B[0m\n\u001B[0m\u001B[1;32m    204\u001B[0m                 \u001B[0;32mexcept\u001B[0m \u001B[0mException\u001B[0m \u001B[0;32mas\u001B[0m \u001B[0me\u001B[0m\u001B[0;34m:\u001B[0m\u001B[0;34m\u001B[0m\u001B[0;34m\u001B[0m\u001B[0m\n\u001B[1;32m    205\u001B[0m                     \u001B[0mprofile_ext_data\u001B[0m \u001B[0;34m=\u001B[0m \u001B[0;32mNone\u001B[0m\u001B[0;34m\u001B[0m\u001B[0;34m\u001B[0m\u001B[0m\n",
      "\u001B[0;32m~/REPO/Zwiftpower_tools/fetch.py\u001B[0m in \u001B[0;36mfetch_profile_ext\u001B[0;34m(self, zwid, refresh, avatar)\u001B[0m\n\u001B[1;32m    218\u001B[0m         \"\"\"\n\u001B[1;32m    219\u001B[0m         \u001B[0mpage_url\u001B[0m \u001B[0;34m=\u001B[0m \u001B[0;34mf\"https://zwiftpower.com/profile.php?z={zwid}\"\u001B[0m\u001B[0;34m\u001B[0m\u001B[0;34m\u001B[0m\u001B[0m\n\u001B[0;32m--> 220\u001B[0;31m         \u001B[0mpage_xml\u001B[0m \u001B[0;34m=\u001B[0m \u001B[0mBeautifulSoup\u001B[0m\u001B[0;34m(\u001B[0m\u001B[0mself\u001B[0m\u001B[0;34m.\u001B[0m\u001B[0msession\u001B[0m\u001B[0;34m.\u001B[0m\u001B[0mget\u001B[0m\u001B[0;34m(\u001B[0m\u001B[0mpage_url\u001B[0m\u001B[0;34m)\u001B[0m\u001B[0;34m.\u001B[0m\u001B[0mcontent\u001B[0m\u001B[0;34m,\u001B[0m \u001B[0;34m\"lxml\"\u001B[0m\u001B[0;34m)\u001B[0m\u001B[0;34m\u001B[0m\u001B[0;34m\u001B[0m\u001B[0m\n\u001B[0m\u001B[1;32m    221\u001B[0m         \u001B[0mprofile_ext\u001B[0m \u001B[0;34m=\u001B[0m \u001B[0;34m{\u001B[0m\u001B[0;34m}\u001B[0m\u001B[0;34m\u001B[0m\u001B[0;34m\u001B[0m\u001B[0m\n\u001B[1;32m    222\u001B[0m         \u001B[0;32mtry\u001B[0m\u001B[0;34m:\u001B[0m\u001B[0;34m\u001B[0m\u001B[0;34m\u001B[0m\u001B[0m\n",
      "\u001B[0;32m~/opt/anaconda3/envs/Zwiftpower_tools/lib/python3.9/site-packages/requests/sessions.py\u001B[0m in \u001B[0;36mget\u001B[0;34m(self, url, **kwargs)\u001B[0m\n\u001B[1;32m    553\u001B[0m \u001B[0;34m\u001B[0m\u001B[0m\n\u001B[1;32m    554\u001B[0m         \u001B[0mkwargs\u001B[0m\u001B[0;34m.\u001B[0m\u001B[0msetdefault\u001B[0m\u001B[0;34m(\u001B[0m\u001B[0;34m'allow_redirects'\u001B[0m\u001B[0;34m,\u001B[0m \u001B[0;32mTrue\u001B[0m\u001B[0;34m)\u001B[0m\u001B[0;34m\u001B[0m\u001B[0;34m\u001B[0m\u001B[0m\n\u001B[0;32m--> 555\u001B[0;31m         \u001B[0;32mreturn\u001B[0m \u001B[0mself\u001B[0m\u001B[0;34m.\u001B[0m\u001B[0mrequest\u001B[0m\u001B[0;34m(\u001B[0m\u001B[0;34m'GET'\u001B[0m\u001B[0;34m,\u001B[0m \u001B[0murl\u001B[0m\u001B[0;34m,\u001B[0m \u001B[0;34m**\u001B[0m\u001B[0mkwargs\u001B[0m\u001B[0;34m)\u001B[0m\u001B[0;34m\u001B[0m\u001B[0;34m\u001B[0m\u001B[0m\n\u001B[0m\u001B[1;32m    556\u001B[0m \u001B[0;34m\u001B[0m\u001B[0m\n\u001B[1;32m    557\u001B[0m     \u001B[0;32mdef\u001B[0m \u001B[0moptions\u001B[0m\u001B[0;34m(\u001B[0m\u001B[0mself\u001B[0m\u001B[0;34m,\u001B[0m \u001B[0murl\u001B[0m\u001B[0;34m,\u001B[0m \u001B[0;34m**\u001B[0m\u001B[0mkwargs\u001B[0m\u001B[0;34m)\u001B[0m\u001B[0;34m:\u001B[0m\u001B[0;34m\u001B[0m\u001B[0;34m\u001B[0m\u001B[0m\n",
      "\u001B[0;32m~/opt/anaconda3/envs/Zwiftpower_tools/lib/python3.9/site-packages/requests/sessions.py\u001B[0m in \u001B[0;36mrequest\u001B[0;34m(self, method, url, params, data, headers, cookies, files, auth, timeout, allow_redirects, proxies, hooks, stream, verify, cert, json)\u001B[0m\n\u001B[1;32m    540\u001B[0m         }\n\u001B[1;32m    541\u001B[0m         \u001B[0msend_kwargs\u001B[0m\u001B[0;34m.\u001B[0m\u001B[0mupdate\u001B[0m\u001B[0;34m(\u001B[0m\u001B[0msettings\u001B[0m\u001B[0;34m)\u001B[0m\u001B[0;34m\u001B[0m\u001B[0;34m\u001B[0m\u001B[0m\n\u001B[0;32m--> 542\u001B[0;31m         \u001B[0mresp\u001B[0m \u001B[0;34m=\u001B[0m \u001B[0mself\u001B[0m\u001B[0;34m.\u001B[0m\u001B[0msend\u001B[0m\u001B[0;34m(\u001B[0m\u001B[0mprep\u001B[0m\u001B[0;34m,\u001B[0m \u001B[0;34m**\u001B[0m\u001B[0msend_kwargs\u001B[0m\u001B[0;34m)\u001B[0m\u001B[0;34m\u001B[0m\u001B[0;34m\u001B[0m\u001B[0m\n\u001B[0m\u001B[1;32m    543\u001B[0m \u001B[0;34m\u001B[0m\u001B[0m\n\u001B[1;32m    544\u001B[0m         \u001B[0;32mreturn\u001B[0m \u001B[0mresp\u001B[0m\u001B[0;34m\u001B[0m\u001B[0;34m\u001B[0m\u001B[0m\n",
      "\u001B[0;32m~/opt/anaconda3/envs/Zwiftpower_tools/lib/python3.9/site-packages/requests/sessions.py\u001B[0m in \u001B[0;36msend\u001B[0;34m(self, request, **kwargs)\u001B[0m\n\u001B[1;32m    653\u001B[0m \u001B[0;34m\u001B[0m\u001B[0m\n\u001B[1;32m    654\u001B[0m         \u001B[0;31m# Send the request\u001B[0m\u001B[0;34m\u001B[0m\u001B[0;34m\u001B[0m\u001B[0m\n\u001B[0;32m--> 655\u001B[0;31m         \u001B[0mr\u001B[0m \u001B[0;34m=\u001B[0m \u001B[0madapter\u001B[0m\u001B[0;34m.\u001B[0m\u001B[0msend\u001B[0m\u001B[0;34m(\u001B[0m\u001B[0mrequest\u001B[0m\u001B[0;34m,\u001B[0m \u001B[0;34m**\u001B[0m\u001B[0mkwargs\u001B[0m\u001B[0;34m)\u001B[0m\u001B[0;34m\u001B[0m\u001B[0;34m\u001B[0m\u001B[0m\n\u001B[0m\u001B[1;32m    656\u001B[0m \u001B[0;34m\u001B[0m\u001B[0m\n\u001B[1;32m    657\u001B[0m         \u001B[0;31m# Total elapsed time of the request (approximately)\u001B[0m\u001B[0;34m\u001B[0m\u001B[0;34m\u001B[0m\u001B[0m\n",
      "\u001B[0;32m~/opt/anaconda3/envs/Zwiftpower_tools/lib/python3.9/site-packages/requests/adapters.py\u001B[0m in \u001B[0;36msend\u001B[0;34m(self, request, stream, timeout, verify, cert, proxies)\u001B[0m\n\u001B[1;32m    437\u001B[0m         \u001B[0;32mtry\u001B[0m\u001B[0;34m:\u001B[0m\u001B[0;34m\u001B[0m\u001B[0;34m\u001B[0m\u001B[0m\n\u001B[1;32m    438\u001B[0m             \u001B[0;32mif\u001B[0m \u001B[0;32mnot\u001B[0m \u001B[0mchunked\u001B[0m\u001B[0;34m:\u001B[0m\u001B[0;34m\u001B[0m\u001B[0;34m\u001B[0m\u001B[0m\n\u001B[0;32m--> 439\u001B[0;31m                 resp = conn.urlopen(\n\u001B[0m\u001B[1;32m    440\u001B[0m                     \u001B[0mmethod\u001B[0m\u001B[0;34m=\u001B[0m\u001B[0mrequest\u001B[0m\u001B[0;34m.\u001B[0m\u001B[0mmethod\u001B[0m\u001B[0;34m,\u001B[0m\u001B[0;34m\u001B[0m\u001B[0;34m\u001B[0m\u001B[0m\n\u001B[1;32m    441\u001B[0m                     \u001B[0murl\u001B[0m\u001B[0;34m=\u001B[0m\u001B[0murl\u001B[0m\u001B[0;34m,\u001B[0m\u001B[0;34m\u001B[0m\u001B[0;34m\u001B[0m\u001B[0m\n",
      "\u001B[0;32m~/opt/anaconda3/envs/Zwiftpower_tools/lib/python3.9/site-packages/urllib3/connectionpool.py\u001B[0m in \u001B[0;36murlopen\u001B[0;34m(self, method, url, body, headers, retries, redirect, assert_same_host, timeout, pool_timeout, release_conn, chunked, body_pos, **response_kw)\u001B[0m\n\u001B[1;32m    697\u001B[0m \u001B[0;34m\u001B[0m\u001B[0m\n\u001B[1;32m    698\u001B[0m             \u001B[0;31m# Make the request on the httplib connection object.\u001B[0m\u001B[0;34m\u001B[0m\u001B[0;34m\u001B[0m\u001B[0m\n\u001B[0;32m--> 699\u001B[0;31m             httplib_response = self._make_request(\n\u001B[0m\u001B[1;32m    700\u001B[0m                 \u001B[0mconn\u001B[0m\u001B[0;34m,\u001B[0m\u001B[0;34m\u001B[0m\u001B[0;34m\u001B[0m\u001B[0m\n\u001B[1;32m    701\u001B[0m                 \u001B[0mmethod\u001B[0m\u001B[0;34m,\u001B[0m\u001B[0;34m\u001B[0m\u001B[0;34m\u001B[0m\u001B[0m\n",
      "\u001B[0;32m~/opt/anaconda3/envs/Zwiftpower_tools/lib/python3.9/site-packages/urllib3/connectionpool.py\u001B[0m in \u001B[0;36m_make_request\u001B[0;34m(self, conn, method, url, timeout, chunked, **httplib_request_kw)\u001B[0m\n\u001B[1;32m    443\u001B[0m                     \u001B[0;31m# Python 3 (including for exceptions like SystemExit).\u001B[0m\u001B[0;34m\u001B[0m\u001B[0;34m\u001B[0m\u001B[0m\n\u001B[1;32m    444\u001B[0m                     \u001B[0;31m# Otherwise it looks like a bug in the code.\u001B[0m\u001B[0;34m\u001B[0m\u001B[0;34m\u001B[0m\u001B[0m\n\u001B[0;32m--> 445\u001B[0;31m                     \u001B[0msix\u001B[0m\u001B[0;34m.\u001B[0m\u001B[0mraise_from\u001B[0m\u001B[0;34m(\u001B[0m\u001B[0me\u001B[0m\u001B[0;34m,\u001B[0m \u001B[0;32mNone\u001B[0m\u001B[0;34m)\u001B[0m\u001B[0;34m\u001B[0m\u001B[0;34m\u001B[0m\u001B[0m\n\u001B[0m\u001B[1;32m    446\u001B[0m         \u001B[0;32mexcept\u001B[0m \u001B[0;34m(\u001B[0m\u001B[0mSocketTimeout\u001B[0m\u001B[0;34m,\u001B[0m \u001B[0mBaseSSLError\u001B[0m\u001B[0;34m,\u001B[0m \u001B[0mSocketError\u001B[0m\u001B[0;34m)\u001B[0m \u001B[0;32mas\u001B[0m \u001B[0me\u001B[0m\u001B[0;34m:\u001B[0m\u001B[0;34m\u001B[0m\u001B[0;34m\u001B[0m\u001B[0m\n\u001B[1;32m    447\u001B[0m             \u001B[0mself\u001B[0m\u001B[0;34m.\u001B[0m\u001B[0m_raise_timeout\u001B[0m\u001B[0;34m(\u001B[0m\u001B[0merr\u001B[0m\u001B[0;34m=\u001B[0m\u001B[0me\u001B[0m\u001B[0;34m,\u001B[0m \u001B[0murl\u001B[0m\u001B[0;34m=\u001B[0m\u001B[0murl\u001B[0m\u001B[0;34m,\u001B[0m \u001B[0mtimeout_value\u001B[0m\u001B[0;34m=\u001B[0m\u001B[0mread_timeout\u001B[0m\u001B[0;34m)\u001B[0m\u001B[0;34m\u001B[0m\u001B[0;34m\u001B[0m\u001B[0m\n",
      "\u001B[0;32m~/opt/anaconda3/envs/Zwiftpower_tools/lib/python3.9/site-packages/urllib3/packages/six.py\u001B[0m in \u001B[0;36mraise_from\u001B[0;34m(value, from_value)\u001B[0m\n",
      "\u001B[0;32m~/opt/anaconda3/envs/Zwiftpower_tools/lib/python3.9/site-packages/urllib3/connectionpool.py\u001B[0m in \u001B[0;36m_make_request\u001B[0;34m(self, conn, method, url, timeout, chunked, **httplib_request_kw)\u001B[0m\n\u001B[1;32m    438\u001B[0m                 \u001B[0;31m# Python 3\u001B[0m\u001B[0;34m\u001B[0m\u001B[0;34m\u001B[0m\u001B[0m\n\u001B[1;32m    439\u001B[0m                 \u001B[0;32mtry\u001B[0m\u001B[0;34m:\u001B[0m\u001B[0;34m\u001B[0m\u001B[0;34m\u001B[0m\u001B[0m\n\u001B[0;32m--> 440\u001B[0;31m                     \u001B[0mhttplib_response\u001B[0m \u001B[0;34m=\u001B[0m \u001B[0mconn\u001B[0m\u001B[0;34m.\u001B[0m\u001B[0mgetresponse\u001B[0m\u001B[0;34m(\u001B[0m\u001B[0;34m)\u001B[0m\u001B[0;34m\u001B[0m\u001B[0;34m\u001B[0m\u001B[0m\n\u001B[0m\u001B[1;32m    441\u001B[0m                 \u001B[0;32mexcept\u001B[0m \u001B[0mBaseException\u001B[0m \u001B[0;32mas\u001B[0m \u001B[0me\u001B[0m\u001B[0;34m:\u001B[0m\u001B[0;34m\u001B[0m\u001B[0;34m\u001B[0m\u001B[0m\n\u001B[1;32m    442\u001B[0m                     \u001B[0;31m# Remove the TypeError from the exception chain in\u001B[0m\u001B[0;34m\u001B[0m\u001B[0;34m\u001B[0m\u001B[0m\n",
      "\u001B[0;32m~/opt/anaconda3/envs/Zwiftpower_tools/lib/python3.9/http/client.py\u001B[0m in \u001B[0;36mgetresponse\u001B[0;34m(self)\u001B[0m\n\u001B[1;32m   1369\u001B[0m         \u001B[0;32mtry\u001B[0m\u001B[0;34m:\u001B[0m\u001B[0;34m\u001B[0m\u001B[0;34m\u001B[0m\u001B[0m\n\u001B[1;32m   1370\u001B[0m             \u001B[0;32mtry\u001B[0m\u001B[0;34m:\u001B[0m\u001B[0;34m\u001B[0m\u001B[0;34m\u001B[0m\u001B[0m\n\u001B[0;32m-> 1371\u001B[0;31m                 \u001B[0mresponse\u001B[0m\u001B[0;34m.\u001B[0m\u001B[0mbegin\u001B[0m\u001B[0;34m(\u001B[0m\u001B[0;34m)\u001B[0m\u001B[0;34m\u001B[0m\u001B[0;34m\u001B[0m\u001B[0m\n\u001B[0m\u001B[1;32m   1372\u001B[0m             \u001B[0;32mexcept\u001B[0m \u001B[0mConnectionError\u001B[0m\u001B[0;34m:\u001B[0m\u001B[0;34m\u001B[0m\u001B[0;34m\u001B[0m\u001B[0m\n\u001B[1;32m   1373\u001B[0m                 \u001B[0mself\u001B[0m\u001B[0;34m.\u001B[0m\u001B[0mclose\u001B[0m\u001B[0;34m(\u001B[0m\u001B[0;34m)\u001B[0m\u001B[0;34m\u001B[0m\u001B[0;34m\u001B[0m\u001B[0m\n",
      "\u001B[0;32m~/opt/anaconda3/envs/Zwiftpower_tools/lib/python3.9/http/client.py\u001B[0m in \u001B[0;36mbegin\u001B[0;34m(self)\u001B[0m\n\u001B[1;32m    317\u001B[0m         \u001B[0;31m# read until we get a non-100 response\u001B[0m\u001B[0;34m\u001B[0m\u001B[0;34m\u001B[0m\u001B[0m\n\u001B[1;32m    318\u001B[0m         \u001B[0;32mwhile\u001B[0m \u001B[0;32mTrue\u001B[0m\u001B[0;34m:\u001B[0m\u001B[0;34m\u001B[0m\u001B[0;34m\u001B[0m\u001B[0m\n\u001B[0;32m--> 319\u001B[0;31m             \u001B[0mversion\u001B[0m\u001B[0;34m,\u001B[0m \u001B[0mstatus\u001B[0m\u001B[0;34m,\u001B[0m \u001B[0mreason\u001B[0m \u001B[0;34m=\u001B[0m \u001B[0mself\u001B[0m\u001B[0;34m.\u001B[0m\u001B[0m_read_status\u001B[0m\u001B[0;34m(\u001B[0m\u001B[0;34m)\u001B[0m\u001B[0;34m\u001B[0m\u001B[0;34m\u001B[0m\u001B[0m\n\u001B[0m\u001B[1;32m    320\u001B[0m             \u001B[0;32mif\u001B[0m \u001B[0mstatus\u001B[0m \u001B[0;34m!=\u001B[0m \u001B[0mCONTINUE\u001B[0m\u001B[0;34m:\u001B[0m\u001B[0;34m\u001B[0m\u001B[0;34m\u001B[0m\u001B[0m\n\u001B[1;32m    321\u001B[0m                 \u001B[0;32mbreak\u001B[0m\u001B[0;34m\u001B[0m\u001B[0;34m\u001B[0m\u001B[0m\n",
      "\u001B[0;32m~/opt/anaconda3/envs/Zwiftpower_tools/lib/python3.9/http/client.py\u001B[0m in \u001B[0;36m_read_status\u001B[0;34m(self)\u001B[0m\n\u001B[1;32m    278\u001B[0m \u001B[0;34m\u001B[0m\u001B[0m\n\u001B[1;32m    279\u001B[0m     \u001B[0;32mdef\u001B[0m \u001B[0m_read_status\u001B[0m\u001B[0;34m(\u001B[0m\u001B[0mself\u001B[0m\u001B[0;34m)\u001B[0m\u001B[0;34m:\u001B[0m\u001B[0;34m\u001B[0m\u001B[0;34m\u001B[0m\u001B[0m\n\u001B[0;32m--> 280\u001B[0;31m         \u001B[0mline\u001B[0m \u001B[0;34m=\u001B[0m \u001B[0mstr\u001B[0m\u001B[0;34m(\u001B[0m\u001B[0mself\u001B[0m\u001B[0;34m.\u001B[0m\u001B[0mfp\u001B[0m\u001B[0;34m.\u001B[0m\u001B[0mreadline\u001B[0m\u001B[0;34m(\u001B[0m\u001B[0m_MAXLINE\u001B[0m \u001B[0;34m+\u001B[0m \u001B[0;36m1\u001B[0m\u001B[0;34m)\u001B[0m\u001B[0;34m,\u001B[0m \u001B[0;34m\"iso-8859-1\"\u001B[0m\u001B[0;34m)\u001B[0m\u001B[0;34m\u001B[0m\u001B[0;34m\u001B[0m\u001B[0m\n\u001B[0m\u001B[1;32m    281\u001B[0m         \u001B[0;32mif\u001B[0m \u001B[0mlen\u001B[0m\u001B[0;34m(\u001B[0m\u001B[0mline\u001B[0m\u001B[0;34m)\u001B[0m \u001B[0;34m>\u001B[0m \u001B[0m_MAXLINE\u001B[0m\u001B[0;34m:\u001B[0m\u001B[0;34m\u001B[0m\u001B[0;34m\u001B[0m\u001B[0m\n\u001B[1;32m    282\u001B[0m             \u001B[0;32mraise\u001B[0m \u001B[0mLineTooLong\u001B[0m\u001B[0;34m(\u001B[0m\u001B[0;34m\"status line\"\u001B[0m\u001B[0;34m)\u001B[0m\u001B[0;34m\u001B[0m\u001B[0;34m\u001B[0m\u001B[0m\n",
      "\u001B[0;32m~/opt/anaconda3/envs/Zwiftpower_tools/lib/python3.9/socket.py\u001B[0m in \u001B[0;36mreadinto\u001B[0;34m(self, b)\u001B[0m\n\u001B[1;32m    702\u001B[0m         \u001B[0;32mwhile\u001B[0m \u001B[0;32mTrue\u001B[0m\u001B[0;34m:\u001B[0m\u001B[0;34m\u001B[0m\u001B[0;34m\u001B[0m\u001B[0m\n\u001B[1;32m    703\u001B[0m             \u001B[0;32mtry\u001B[0m\u001B[0;34m:\u001B[0m\u001B[0;34m\u001B[0m\u001B[0;34m\u001B[0m\u001B[0m\n\u001B[0;32m--> 704\u001B[0;31m                 \u001B[0;32mreturn\u001B[0m \u001B[0mself\u001B[0m\u001B[0;34m.\u001B[0m\u001B[0m_sock\u001B[0m\u001B[0;34m.\u001B[0m\u001B[0mrecv_into\u001B[0m\u001B[0;34m(\u001B[0m\u001B[0mb\u001B[0m\u001B[0;34m)\u001B[0m\u001B[0;34m\u001B[0m\u001B[0;34m\u001B[0m\u001B[0m\n\u001B[0m\u001B[1;32m    705\u001B[0m             \u001B[0;32mexcept\u001B[0m \u001B[0mtimeout\u001B[0m\u001B[0;34m:\u001B[0m\u001B[0;34m\u001B[0m\u001B[0;34m\u001B[0m\u001B[0m\n\u001B[1;32m    706\u001B[0m                 \u001B[0mself\u001B[0m\u001B[0;34m.\u001B[0m\u001B[0m_timeout_occurred\u001B[0m \u001B[0;34m=\u001B[0m \u001B[0;32mTrue\u001B[0m\u001B[0;34m\u001B[0m\u001B[0;34m\u001B[0m\u001B[0m\n",
      "\u001B[0;32m~/opt/anaconda3/envs/Zwiftpower_tools/lib/python3.9/ssl.py\u001B[0m in \u001B[0;36mrecv_into\u001B[0;34m(self, buffer, nbytes, flags)\u001B[0m\n\u001B[1;32m   1239\u001B[0m                   \u001B[0;34m\"non-zero flags not allowed in calls to recv_into() on %s\"\u001B[0m \u001B[0;34m%\u001B[0m\u001B[0;34m\u001B[0m\u001B[0;34m\u001B[0m\u001B[0m\n\u001B[1;32m   1240\u001B[0m                   self.__class__)\n\u001B[0;32m-> 1241\u001B[0;31m             \u001B[0;32mreturn\u001B[0m \u001B[0mself\u001B[0m\u001B[0;34m.\u001B[0m\u001B[0mread\u001B[0m\u001B[0;34m(\u001B[0m\u001B[0mnbytes\u001B[0m\u001B[0;34m,\u001B[0m \u001B[0mbuffer\u001B[0m\u001B[0;34m)\u001B[0m\u001B[0;34m\u001B[0m\u001B[0;34m\u001B[0m\u001B[0m\n\u001B[0m\u001B[1;32m   1242\u001B[0m         \u001B[0;32melse\u001B[0m\u001B[0;34m:\u001B[0m\u001B[0;34m\u001B[0m\u001B[0;34m\u001B[0m\u001B[0m\n\u001B[1;32m   1243\u001B[0m             \u001B[0;32mreturn\u001B[0m \u001B[0msuper\u001B[0m\u001B[0;34m(\u001B[0m\u001B[0;34m)\u001B[0m\u001B[0;34m.\u001B[0m\u001B[0mrecv_into\u001B[0m\u001B[0;34m(\u001B[0m\u001B[0mbuffer\u001B[0m\u001B[0;34m,\u001B[0m \u001B[0mnbytes\u001B[0m\u001B[0;34m,\u001B[0m \u001B[0mflags\u001B[0m\u001B[0;34m)\u001B[0m\u001B[0;34m\u001B[0m\u001B[0;34m\u001B[0m\u001B[0m\n",
      "\u001B[0;32m~/opt/anaconda3/envs/Zwiftpower_tools/lib/python3.9/ssl.py\u001B[0m in \u001B[0;36mread\u001B[0;34m(self, len, buffer)\u001B[0m\n\u001B[1;32m   1097\u001B[0m         \u001B[0;32mtry\u001B[0m\u001B[0;34m:\u001B[0m\u001B[0;34m\u001B[0m\u001B[0;34m\u001B[0m\u001B[0m\n\u001B[1;32m   1098\u001B[0m             \u001B[0;32mif\u001B[0m \u001B[0mbuffer\u001B[0m \u001B[0;32mis\u001B[0m \u001B[0;32mnot\u001B[0m \u001B[0;32mNone\u001B[0m\u001B[0;34m:\u001B[0m\u001B[0;34m\u001B[0m\u001B[0;34m\u001B[0m\u001B[0m\n\u001B[0;32m-> 1099\u001B[0;31m                 \u001B[0;32mreturn\u001B[0m \u001B[0mself\u001B[0m\u001B[0;34m.\u001B[0m\u001B[0m_sslobj\u001B[0m\u001B[0;34m.\u001B[0m\u001B[0mread\u001B[0m\u001B[0;34m(\u001B[0m\u001B[0mlen\u001B[0m\u001B[0;34m,\u001B[0m \u001B[0mbuffer\u001B[0m\u001B[0;34m)\u001B[0m\u001B[0;34m\u001B[0m\u001B[0;34m\u001B[0m\u001B[0m\n\u001B[0m\u001B[1;32m   1100\u001B[0m             \u001B[0;32melse\u001B[0m\u001B[0;34m:\u001B[0m\u001B[0;34m\u001B[0m\u001B[0;34m\u001B[0m\u001B[0m\n\u001B[1;32m   1101\u001B[0m                 \u001B[0;32mreturn\u001B[0m \u001B[0mself\u001B[0m\u001B[0;34m.\u001B[0m\u001B[0m_sslobj\u001B[0m\u001B[0;34m.\u001B[0m\u001B[0mread\u001B[0m\u001B[0;34m(\u001B[0m\u001B[0mlen\u001B[0m\u001B[0;34m)\u001B[0m\u001B[0;34m\u001B[0m\u001B[0;34m\u001B[0m\u001B[0m\n",
      "\u001B[0;31mKeyboardInterrupt\u001B[0m: "
     ]
    }
   ],
   "source": [
    "from time import sleep\n",
    "team_id = 11991\n",
    "triders, status = z.fetch_team(zid = team_id)\n",
    "count = 0\n",
    "for r in triders['team']:\n",
    "    # print(r)\n",
    "    p = z.fetch_profile(r['zwid'], profile_ext=True, refresh=True)\n",
    "    print(f\"Riders count: {count}\")\n",
    "    count += 1\n",
    "    if p is not None:\n",
    "        # print(f\"Rider id:{p['zid']}\")\n",
    "        pass\n",
    "    else:\n",
    "        print(f\"None from rider id: {r['zwid']}\")\n",
    "    sleep(1)"
   ],
   "metadata": {
    "collapsed": false,
    "pycharm": {
     "name": "#%%\n"
    }
   }
  },
  {
   "cell_type": "code",
   "execution_count": 198,
   "outputs": [],
   "source": [
    "import pandas as pd\n",
    "def splitlist(df, col, drop2=True):\n",
    "        df[[f'{col}', f'{col}_2' ]] = df[col].tolist()\n",
    "        if drop2:\n",
    "            df.drop(f'{col}_2', axis=1, inplace=True)\n",
    "\n",
    "def weight_stats(zid):\n",
    "    stats = {}\n",
    "    try:\n",
    "        profile = z.fetch_profile(zid, profile_ext=True)['pall']\n",
    "        dz = pd.DataFrame(profile)\n",
    "        splitlist(dz, 'weight')\n",
    "        dz = dz[dz.event_date >= 1609484400]\n",
    "        dz.sort_values('event_date', inplace=True)\n",
    "        dz.reset_index(drop=True, inplace=True)\n",
    "        dz['change'] = (dz['weight'] != dz['weight'].shift(1))\n",
    "        stats['zid'] = zid\n",
    "        stats['start21'] = float(dz.weight.iloc[0])\n",
    "        stats['now'] = float(dz.weight.iloc[-1])\n",
    "        stats['max'] = float(dz.weight.max())\n",
    "        stats['min'] = float(dz.weight.min())\n",
    "        stats['count'] = float(dz.weight.nunique())\n",
    "        stats['mid_point'] = (stats['max'] + stats['min'])/2\n",
    "        stats['scaled_max'] = stats['max']/stats['mid_point']\n",
    "        stats['scaled_min'] = stats['min']/stats['mid_point']\n",
    "        stats['scaled_now'] = stats['now']/stats['mid_point']\n",
    "        stats[\"name\"] = dz['name'].iloc[0]\n",
    "        stats['url'] = f\"https://zwiftpower.com/profile.php?z={zid}\"\n",
    "        stats['event_count'] = dz.distance.count()\n",
    "        stats['change_count'] = dz['change'].sum()\n",
    "        stats['change_ratio'] = stats['change_count'] / stats['event_count']\n",
    "        # print(stats)\n",
    "        return stats, None, dz\n",
    "    except:\n",
    "        return None, zid, dz\n",
    "        raise\n",
    "        print(stats)\n",
    "        print(zid)\n",
    "\n",
    "team_id = 11991\n",
    "triders, status = z.fetch_team(zid = team_id)\n",
    "\n",
    "team_weight_stats = []\n",
    "bad_list = []\n",
    "for r in triders['team']:\n",
    "    # print(r)\n",
    "    stat, bad, dz= weight_stats(r['zwid'])\n",
    "    if stat:\n",
    "        team_weight_stats.append(stat)\n",
    "    elif bad:\n",
    "        bad_list.append({'zid': bad, 'url':f\"https://zwiftpower.com/profile.php?z={bad}\"})\n",
    "\n",
    "team_weight_stats_pd = pd.DataFrame(team_weight_stats)\n",
    "team_weight_stats_pd.to_excel('team_weight_stats_2.xlsx')\n",
    "bad_list_pd = pd.DataFrame(bad_list)\n",
    "bad_list_pd.to_excel('bad_list_2.xlsx')"
   ],
   "metadata": {
    "collapsed": false,
    "pycharm": {
     "name": "#%%\n"
    }
   }
  },
  {
   "cell_type": "code",
   "execution_count": 191,
   "outputs": [],
   "source": [
    "import pandas as pd\n",
    "def splitlist(df, col, drop2=True):\n",
    "        df[[f'{col}', f'{col}_2' ]] = df[col].tolist()\n",
    "        if drop2:\n",
    "            df.drop(f'{col}_2', axis=1, inplace=True)\n"
   ],
   "metadata": {
    "collapsed": false,
    "pycharm": {
     "name": "#%%\n"
    }
   }
  },
  {
   "cell_type": "code",
   "execution_count": 192,
   "outputs": [
    {
     "data": {
      "text/plain": "   DT_RowId  ftp  friend pt label      zid  pos  position_in_cat  \\\n0            272       0        2  2278490   14                8   \n1            272       0        2  2287138    7                2   \n2            272       0        2  2288680   15                2   \n3            272       0        2  2295800   79               46   \n4            272       0        2  2297379    9                7   \n5            272       0        2  2299016   16                3   \n6            272       0        2  2309380   42               42   \n7            272       0        2  2311384   39               18   \n8            272       0        2  2312655   67               30   \n9            272       0        2  2320875    7                7   \n10           272       0        2  2323020   18                2   \n11           272       0        2  2327933   20                6   \n12           272       0        2  2340429   11                0   \n13           272       0        2  2343083   14                0   \n14           272       0        2  2351329   35                0   \n15           272       0        1  2353297    4                4   \n16           272       0        1  2365409   34               34   \n17           272       0        1  2367475    5                5   \n18           272       0        1  2378403    3                3   \n19           272       0        1  2383089   33                6   \n20           272       0        1  2385156   17               17   \n21           272       0        1  2389939   11               11   \n22           272       0        1  2396101    2                2   \n23           272       0        2  2405638   14                0   \n24           272       0        1  2414454    9                9   \n25           272       0        1  2417451   16               16   \n26           272       0        1  2425330    4                4   \n27           272       0        1  2425343    7                7   \n28           272       0        1  2431329   15               15   \n29           272       0        1  2434693   18               18   \n30           272       0        1  2437674   55                7   \n31           272       0        1  2443198   16               16   \n32           272       0        1  2452619   14               14   \n33           272       0        1  2463509    5                5   \n34           272       0        1  2556004   33               33   \n35           272       0        1  2579776   22               22   \n36           272       0        1  2593320   36               36   \n37           272       0        1  2605228   21               21   \n\n                          name  cp  ...  info_notes strike  \\\n0   Alejandro 1559 [COALITION]   0  ...          []     -1   \n1   Alejandro 1559 [COALITION]   0  ...          []     -1   \n2   Alejandro 1559 [COALITION]   0  ...          []     -1   \n3   Alejandro 1559 [COALITION]   0  ...          []     -1   \n4   Alejandro 1559 [COALITION]   0  ...          []     -1   \n5   Alejandro 1559 [COALITION]   0  ...          []     -1   \n6   Alejandro 1559 [COALITION]   0  ...          []     -1   \n7   Alejandro 1559 [COALITION]   0  ...          []     -1   \n8   Alejandro 1559 [COALITION]   0  ...          []     -1   \n9   Alejandro 1559 [COALITION]   0  ...          []     -1   \n10  Alejandro 1559 [COALITION]   0  ...          []     -1   \n11  Alejandro 1559 [COALITION]   0  ...          []     -1   \n12  Alejandro 1559 [COALITION]   1  ...          []     -1   \n13  Alejandro 1559 [COALITION]   1  ...          []     -1   \n14  Alejandro 1559 [COALITION]   1  ...          []     -1   \n15  Alejandro 1559 [COALITION]   1  ...          []     -1   \n16  Alejandro 1559 [COALITION]   1  ...          []     -1   \n17  Alejandro 1559 [COALITION]   1  ...          []     -1   \n18  Alejandro 1559 [COALITION]   1  ...          []     -1   \n19  Alejandro 1559 [COALITION]   1  ...          []     -1   \n20  Alejandro 1559 [COALITION]   1  ...          []     -1   \n21  Alejandro 1559 [COALITION]   1  ...          []     -1   \n22  Alejandro 1559 [COALITION]   1  ...          []     -1   \n23  Alejandro 1559 [COALITION]   1  ...          []     -1   \n24  Alejandro 1559 [COALITION]   1  ...          []     -1   \n25  Alejandro 1559 [COALITION]   1  ...          []     -1   \n26  Alejandro 1559 [COALITION]   1  ...          []     -1   \n27  Alejandro 1559 [COALITION]   1  ...          []     -1   \n28  Alejandro 1559 [COALITION]   1  ...          []     -1   \n29  Alejandro 1559 [COALITION]   1  ...          []     -1   \n30  Alejandro 1559 [COALITION]   1  ...          []     -1   \n31  Alejandro 1559 [COALITION]   1  ...          []     -1   \n32  Alejandro 1559 [COALITION]   1  ...          []     -1   \n33  Alejandro 1559 [COALITION]   1  ...          []     -1   \n34  Alejandro 1559 [COALITION]   1  ...          []     -1   \n35  Alejandro 1559 [COALITION]   1  ...          []     -1   \n36  Alejandro 1559 [COALITION]   1  ...          []     -1   \n37  Alejandro 1559 [COALITION]   1  ...          []     -1   \n\n                                          event_title                   f_t  \\\n0   ZHQ FutureWorks Crit City Race - Anti-sandbagging  TYPE_RACE TYPE_RACE    \n1                              Dream Bike Race Series  TYPE_RACE TYPE_RACE    \n2                                  OTAKAM Race Series  TYPE_RACE TYPE_RACE    \n3                                         WTRL Racing  TYPE_RACE TYPE_RACE    \n4     ZHQ FutureWorks Circuit Race - Anti-sandbagging  TYPE_RACE TYPE_RACE    \n5             Team KST \"King and Queen of Crits\" Race  TYPE_RACE TYPE_RACE    \n6   Zwift Racing League | WTRL - Mixed/Mens EMEA E...             TYPE_RACE   \n7                                      Crit City Race  TYPE_RACE TYPE_RACE    \n8                                     DBR Friday Race  TYPE_RACE TYPE_RACE    \n9   ZWIFT Racing League | WTRL - EMEA East DIV5 (M...  TYPE_RACE TYPE_RACE    \n10                                 OTAKAM Race Series  TYPE_RACE TYPE_RACE    \n11                             Newbury Velo Road Race  TYPE_RACE TYPE_RACE    \n12                          PETA-Z Flipados Club-Race  TYPE_RACE TYPE_RACE    \n13                           DIRT Dadurday Chase Race  TYPE_RACE TYPE_RACE    \n14  3R Tick Tock Flat Race - 2 Lap (36km/22.4mi 100m)  TYPE_RACE TYPE_RACE    \n15                                      Renegade Race  TYPE_RACE TYPE_RACE    \n16    MIDWEEK Autumn Series by SZR Low-End-Categories  TYPE_RACE TYPE_RACE    \n17                               Mussara 24h Race Day  TYPE_RACE TYPE_RACE    \n18       3R Tuesday Night Race Club - Race 1 - No HUD  TYPE_RACE TYPE_RACE    \n19                      Sportive Breaks Handicap Race  TYPE_RACE TYPE_RACE    \n20                               ZHR The Great Escape  TYPE_RACE TYPE_RACE    \n21      3R Sand & Sequoias - 1 Lap (20km/12.5mi 173m)  TYPE_RACE TYPE_RACE    \n22                                        WTRL Racing  TYPE_RACE TYPE_RACE    \n23                   Ascenders Team Weekend Challenge  TYPE_RACE TYPE_RACE    \n24                     NonStop Madrid-Lisboa Race Day  TYPE_RACE TYPE_RACE    \n25                     Team Italy Specialissima Race   TYPE_RACE TYPE_RACE    \n26    ZHQ FutureWorks Circuit Race - Anti-sandbagging  TYPE_RACE TYPE_RACE    \n27                     CCBoucherville-V2000 FUN Races  TYPE_RACE TYPE_RACE    \n28                    3R Queens Highway Race - 6 Laps  TYPE_RACE TYPE_RACE    \n29                     NonStop Madrid-Lisboa Race Day  TYPE_RACE TYPE_RACE    \n30                                  ZHR Hare & Hounds  TYPE_RACE TYPE_RACE    \n31                               ZHR The Great Escape  TYPE_RACE TYPE_RACE    \n32                             Team DRAFT Monday Race  TYPE_RACE TYPE_RACE    \n33    ZHQ FutureWorks Circuit Race - Anti-sandbagging  TYPE_RACE TYPE_RACE    \n34  3R Classique Reverse Flat Race - 4 Laps (26.9k...  TYPE_RACE TYPE_RACE    \n35                    3R Queens Highway Race - 6 Laps  TYPE_RACE TYPE_RACE    \n36  3R Volcano Flat Race - 3 Laps (36.6km/22.7mi 1...  TYPE_RACE TYPE_RACE    \n37                                          3R Racing  TYPE_RACE TYPE_RACE    \n\n   distance  event_date          rt laps  dur  change  \n0        20  1631190600   947394567   10            2  \n1        27  1631723400  2737483381    3            2  \n2        29  1631809800   982239385    2            2  \n3        28  1632241800  1064303857    1            2  \n4        23  1632317400  3364574135    3            2  \n5        20  1632420000  2875658892   10            2  \n6        28  1632848640  1064303857    1            2  \n7        24  1633016700  2875658892   12            2  \n8        30  1633098600   553661379    1            2  \n9        30  1633453440   553661379    1            2  \n10       29  1633624200   982239385    2            2  \n11       70  1633856700  3921412335    1            2  \n12       35  1634232000  4009235104                 2  \n13       47  1634391900  3919912289    2            2  \n14       36  1634746200  3366225080    2            2  \n15       36  1634839200  3364574135    5            2  \n16       36  1635354000  2592027600    4            2  \n17       27  1635440400   872351836    1            2  \n18       22  1635877800  2694166390    3            2  \n19       27  1636050600  2592027600    3            2  \n20       40  1636133400   387309391    1            2  \n21       23  1636279800   604330868    1            2  \n22       30  1636479000  3364574135    4            2  \n23       46  1636795800  2969952077    1            2  \n24       25  1637082000   986252325    1            2  \n25       27  1637163600   872351836    1            2  \n26       23  1637415000  3364574135    3            2  \n27       37  1637418000  3994934674    3            2  \n28       21  1637600400  3007266671    6            2  \n29       25  1637686800   986252325    1            2  \n30       41  1637775000  3395698268    4            2  \n31       40  1637947800   387309391    1            2  \n32       22  1638199800  3312037616    3            2  \n33       23  1638466200  3364574135    3            2  \n34       29  1640621400  3599973269    4            2  \n35       21  1641229200  3007266671    6            2  \n36       37  1641571500  3994934674    3            2  \n37       29  1641831000  3599973269    4            2  \n\n[38 rows x 86 columns]",
      "text/html": "<div>\n<style scoped>\n    .dataframe tbody tr th:only-of-type {\n        vertical-align: middle;\n    }\n\n    .dataframe tbody tr th {\n        vertical-align: top;\n    }\n\n    .dataframe thead th {\n        text-align: right;\n    }\n</style>\n<table border=\"1\" class=\"dataframe\">\n  <thead>\n    <tr style=\"text-align: right;\">\n      <th></th>\n      <th>DT_RowId</th>\n      <th>ftp</th>\n      <th>friend</th>\n      <th>pt</th>\n      <th>label</th>\n      <th>zid</th>\n      <th>pos</th>\n      <th>position_in_cat</th>\n      <th>name</th>\n      <th>cp</th>\n      <th>...</th>\n      <th>info_notes</th>\n      <th>strike</th>\n      <th>event_title</th>\n      <th>f_t</th>\n      <th>distance</th>\n      <th>event_date</th>\n      <th>rt</th>\n      <th>laps</th>\n      <th>dur</th>\n      <th>change</th>\n    </tr>\n  </thead>\n  <tbody>\n    <tr>\n      <th>0</th>\n      <td></td>\n      <td>272</td>\n      <td>0</td>\n      <td></td>\n      <td>2</td>\n      <td>2278490</td>\n      <td>14</td>\n      <td>8</td>\n      <td>Alejandro 1559 [COALITION]</td>\n      <td>0</td>\n      <td>...</td>\n      <td>[]</td>\n      <td>-1</td>\n      <td>ZHQ FutureWorks Crit City Race - Anti-sandbagging</td>\n      <td>TYPE_RACE TYPE_RACE</td>\n      <td>20</td>\n      <td>1631190600</td>\n      <td>947394567</td>\n      <td>10</td>\n      <td></td>\n      <td>2</td>\n    </tr>\n    <tr>\n      <th>1</th>\n      <td></td>\n      <td>272</td>\n      <td>0</td>\n      <td></td>\n      <td>2</td>\n      <td>2287138</td>\n      <td>7</td>\n      <td>2</td>\n      <td>Alejandro 1559 [COALITION]</td>\n      <td>0</td>\n      <td>...</td>\n      <td>[]</td>\n      <td>-1</td>\n      <td>Dream Bike Race Series</td>\n      <td>TYPE_RACE TYPE_RACE</td>\n      <td>27</td>\n      <td>1631723400</td>\n      <td>2737483381</td>\n      <td>3</td>\n      <td></td>\n      <td>2</td>\n    </tr>\n    <tr>\n      <th>2</th>\n      <td></td>\n      <td>272</td>\n      <td>0</td>\n      <td></td>\n      <td>2</td>\n      <td>2288680</td>\n      <td>15</td>\n      <td>2</td>\n      <td>Alejandro 1559 [COALITION]</td>\n      <td>0</td>\n      <td>...</td>\n      <td>[]</td>\n      <td>-1</td>\n      <td>OTAKAM Race Series</td>\n      <td>TYPE_RACE TYPE_RACE</td>\n      <td>29</td>\n      <td>1631809800</td>\n      <td>982239385</td>\n      <td>2</td>\n      <td></td>\n      <td>2</td>\n    </tr>\n    <tr>\n      <th>3</th>\n      <td></td>\n      <td>272</td>\n      <td>0</td>\n      <td></td>\n      <td>2</td>\n      <td>2295800</td>\n      <td>79</td>\n      <td>46</td>\n      <td>Alejandro 1559 [COALITION]</td>\n      <td>0</td>\n      <td>...</td>\n      <td>[]</td>\n      <td>-1</td>\n      <td>WTRL Racing</td>\n      <td>TYPE_RACE TYPE_RACE</td>\n      <td>28</td>\n      <td>1632241800</td>\n      <td>1064303857</td>\n      <td>1</td>\n      <td></td>\n      <td>2</td>\n    </tr>\n    <tr>\n      <th>4</th>\n      <td></td>\n      <td>272</td>\n      <td>0</td>\n      <td></td>\n      <td>2</td>\n      <td>2297379</td>\n      <td>9</td>\n      <td>7</td>\n      <td>Alejandro 1559 [COALITION]</td>\n      <td>0</td>\n      <td>...</td>\n      <td>[]</td>\n      <td>-1</td>\n      <td>ZHQ FutureWorks Circuit Race - Anti-sandbagging</td>\n      <td>TYPE_RACE TYPE_RACE</td>\n      <td>23</td>\n      <td>1632317400</td>\n      <td>3364574135</td>\n      <td>3</td>\n      <td></td>\n      <td>2</td>\n    </tr>\n    <tr>\n      <th>5</th>\n      <td></td>\n      <td>272</td>\n      <td>0</td>\n      <td></td>\n      <td>2</td>\n      <td>2299016</td>\n      <td>16</td>\n      <td>3</td>\n      <td>Alejandro 1559 [COALITION]</td>\n      <td>0</td>\n      <td>...</td>\n      <td>[]</td>\n      <td>-1</td>\n      <td>Team KST \"King and Queen of Crits\" Race</td>\n      <td>TYPE_RACE TYPE_RACE</td>\n      <td>20</td>\n      <td>1632420000</td>\n      <td>2875658892</td>\n      <td>10</td>\n      <td></td>\n      <td>2</td>\n    </tr>\n    <tr>\n      <th>6</th>\n      <td></td>\n      <td>272</td>\n      <td>0</td>\n      <td></td>\n      <td>2</td>\n      <td>2309380</td>\n      <td>42</td>\n      <td>42</td>\n      <td>Alejandro 1559 [COALITION]</td>\n      <td>0</td>\n      <td>...</td>\n      <td>[]</td>\n      <td>-1</td>\n      <td>Zwift Racing League | WTRL - Mixed/Mens EMEA E...</td>\n      <td>TYPE_RACE</td>\n      <td>28</td>\n      <td>1632848640</td>\n      <td>1064303857</td>\n      <td>1</td>\n      <td></td>\n      <td>2</td>\n    </tr>\n    <tr>\n      <th>7</th>\n      <td></td>\n      <td>272</td>\n      <td>0</td>\n      <td></td>\n      <td>2</td>\n      <td>2311384</td>\n      <td>39</td>\n      <td>18</td>\n      <td>Alejandro 1559 [COALITION]</td>\n      <td>0</td>\n      <td>...</td>\n      <td>[]</td>\n      <td>-1</td>\n      <td>Crit City Race</td>\n      <td>TYPE_RACE TYPE_RACE</td>\n      <td>24</td>\n      <td>1633016700</td>\n      <td>2875658892</td>\n      <td>12</td>\n      <td></td>\n      <td>2</td>\n    </tr>\n    <tr>\n      <th>8</th>\n      <td></td>\n      <td>272</td>\n      <td>0</td>\n      <td></td>\n      <td>2</td>\n      <td>2312655</td>\n      <td>67</td>\n      <td>30</td>\n      <td>Alejandro 1559 [COALITION]</td>\n      <td>0</td>\n      <td>...</td>\n      <td>[]</td>\n      <td>-1</td>\n      <td>DBR Friday Race</td>\n      <td>TYPE_RACE TYPE_RACE</td>\n      <td>30</td>\n      <td>1633098600</td>\n      <td>553661379</td>\n      <td>1</td>\n      <td></td>\n      <td>2</td>\n    </tr>\n    <tr>\n      <th>9</th>\n      <td></td>\n      <td>272</td>\n      <td>0</td>\n      <td></td>\n      <td>2</td>\n      <td>2320875</td>\n      <td>7</td>\n      <td>7</td>\n      <td>Alejandro 1559 [COALITION]</td>\n      <td>0</td>\n      <td>...</td>\n      <td>[]</td>\n      <td>-1</td>\n      <td>ZWIFT Racing League | WTRL - EMEA East DIV5 (M...</td>\n      <td>TYPE_RACE TYPE_RACE</td>\n      <td>30</td>\n      <td>1633453440</td>\n      <td>553661379</td>\n      <td>1</td>\n      <td></td>\n      <td>2</td>\n    </tr>\n    <tr>\n      <th>10</th>\n      <td></td>\n      <td>272</td>\n      <td>0</td>\n      <td></td>\n      <td>2</td>\n      <td>2323020</td>\n      <td>18</td>\n      <td>2</td>\n      <td>Alejandro 1559 [COALITION]</td>\n      <td>0</td>\n      <td>...</td>\n      <td>[]</td>\n      <td>-1</td>\n      <td>OTAKAM Race Series</td>\n      <td>TYPE_RACE TYPE_RACE</td>\n      <td>29</td>\n      <td>1633624200</td>\n      <td>982239385</td>\n      <td>2</td>\n      <td></td>\n      <td>2</td>\n    </tr>\n    <tr>\n      <th>11</th>\n      <td></td>\n      <td>272</td>\n      <td>0</td>\n      <td></td>\n      <td>2</td>\n      <td>2327933</td>\n      <td>20</td>\n      <td>6</td>\n      <td>Alejandro 1559 [COALITION]</td>\n      <td>0</td>\n      <td>...</td>\n      <td>[]</td>\n      <td>-1</td>\n      <td>Newbury Velo Road Race</td>\n      <td>TYPE_RACE TYPE_RACE</td>\n      <td>70</td>\n      <td>1633856700</td>\n      <td>3921412335</td>\n      <td>1</td>\n      <td></td>\n      <td>2</td>\n    </tr>\n    <tr>\n      <th>12</th>\n      <td></td>\n      <td>272</td>\n      <td>0</td>\n      <td></td>\n      <td>2</td>\n      <td>2340429</td>\n      <td>11</td>\n      <td>0</td>\n      <td>Alejandro 1559 [COALITION]</td>\n      <td>1</td>\n      <td>...</td>\n      <td>[]</td>\n      <td>-1</td>\n      <td>PETA-Z Flipados Club-Race</td>\n      <td>TYPE_RACE TYPE_RACE</td>\n      <td>35</td>\n      <td>1634232000</td>\n      <td>4009235104</td>\n      <td></td>\n      <td></td>\n      <td>2</td>\n    </tr>\n    <tr>\n      <th>13</th>\n      <td></td>\n      <td>272</td>\n      <td>0</td>\n      <td></td>\n      <td>2</td>\n      <td>2343083</td>\n      <td>14</td>\n      <td>0</td>\n      <td>Alejandro 1559 [COALITION]</td>\n      <td>1</td>\n      <td>...</td>\n      <td>[]</td>\n      <td>-1</td>\n      <td>DIRT Dadurday Chase Race</td>\n      <td>TYPE_RACE TYPE_RACE</td>\n      <td>47</td>\n      <td>1634391900</td>\n      <td>3919912289</td>\n      <td>2</td>\n      <td></td>\n      <td>2</td>\n    </tr>\n    <tr>\n      <th>14</th>\n      <td></td>\n      <td>272</td>\n      <td>0</td>\n      <td></td>\n      <td>2</td>\n      <td>2351329</td>\n      <td>35</td>\n      <td>0</td>\n      <td>Alejandro 1559 [COALITION]</td>\n      <td>1</td>\n      <td>...</td>\n      <td>[]</td>\n      <td>-1</td>\n      <td>3R Tick Tock Flat Race - 2 Lap (36km/22.4mi 100m)</td>\n      <td>TYPE_RACE TYPE_RACE</td>\n      <td>36</td>\n      <td>1634746200</td>\n      <td>3366225080</td>\n      <td>2</td>\n      <td></td>\n      <td>2</td>\n    </tr>\n    <tr>\n      <th>15</th>\n      <td></td>\n      <td>272</td>\n      <td>0</td>\n      <td></td>\n      <td>1</td>\n      <td>2353297</td>\n      <td>4</td>\n      <td>4</td>\n      <td>Alejandro 1559 [COALITION]</td>\n      <td>1</td>\n      <td>...</td>\n      <td>[]</td>\n      <td>-1</td>\n      <td>Renegade Race</td>\n      <td>TYPE_RACE TYPE_RACE</td>\n      <td>36</td>\n      <td>1634839200</td>\n      <td>3364574135</td>\n      <td>5</td>\n      <td></td>\n      <td>2</td>\n    </tr>\n    <tr>\n      <th>16</th>\n      <td></td>\n      <td>272</td>\n      <td>0</td>\n      <td></td>\n      <td>1</td>\n      <td>2365409</td>\n      <td>34</td>\n      <td>34</td>\n      <td>Alejandro 1559 [COALITION]</td>\n      <td>1</td>\n      <td>...</td>\n      <td>[]</td>\n      <td>-1</td>\n      <td>MIDWEEK Autumn Series by SZR Low-End-Categories</td>\n      <td>TYPE_RACE TYPE_RACE</td>\n      <td>36</td>\n      <td>1635354000</td>\n      <td>2592027600</td>\n      <td>4</td>\n      <td></td>\n      <td>2</td>\n    </tr>\n    <tr>\n      <th>17</th>\n      <td></td>\n      <td>272</td>\n      <td>0</td>\n      <td></td>\n      <td>1</td>\n      <td>2367475</td>\n      <td>5</td>\n      <td>5</td>\n      <td>Alejandro 1559 [COALITION]</td>\n      <td>1</td>\n      <td>...</td>\n      <td>[]</td>\n      <td>-1</td>\n      <td>Mussara 24h Race Day</td>\n      <td>TYPE_RACE TYPE_RACE</td>\n      <td>27</td>\n      <td>1635440400</td>\n      <td>872351836</td>\n      <td>1</td>\n      <td></td>\n      <td>2</td>\n    </tr>\n    <tr>\n      <th>18</th>\n      <td></td>\n      <td>272</td>\n      <td>0</td>\n      <td></td>\n      <td>1</td>\n      <td>2378403</td>\n      <td>3</td>\n      <td>3</td>\n      <td>Alejandro 1559 [COALITION]</td>\n      <td>1</td>\n      <td>...</td>\n      <td>[]</td>\n      <td>-1</td>\n      <td>3R Tuesday Night Race Club - Race 1 - No HUD</td>\n      <td>TYPE_RACE TYPE_RACE</td>\n      <td>22</td>\n      <td>1635877800</td>\n      <td>2694166390</td>\n      <td>3</td>\n      <td></td>\n      <td>2</td>\n    </tr>\n    <tr>\n      <th>19</th>\n      <td></td>\n      <td>272</td>\n      <td>0</td>\n      <td></td>\n      <td>1</td>\n      <td>2383089</td>\n      <td>33</td>\n      <td>6</td>\n      <td>Alejandro 1559 [COALITION]</td>\n      <td>1</td>\n      <td>...</td>\n      <td>[]</td>\n      <td>-1</td>\n      <td>Sportive Breaks Handicap Race</td>\n      <td>TYPE_RACE TYPE_RACE</td>\n      <td>27</td>\n      <td>1636050600</td>\n      <td>2592027600</td>\n      <td>3</td>\n      <td></td>\n      <td>2</td>\n    </tr>\n    <tr>\n      <th>20</th>\n      <td></td>\n      <td>272</td>\n      <td>0</td>\n      <td></td>\n      <td>1</td>\n      <td>2385156</td>\n      <td>17</td>\n      <td>17</td>\n      <td>Alejandro 1559 [COALITION]</td>\n      <td>1</td>\n      <td>...</td>\n      <td>[]</td>\n      <td>-1</td>\n      <td>ZHR The Great Escape</td>\n      <td>TYPE_RACE TYPE_RACE</td>\n      <td>40</td>\n      <td>1636133400</td>\n      <td>387309391</td>\n      <td>1</td>\n      <td></td>\n      <td>2</td>\n    </tr>\n    <tr>\n      <th>21</th>\n      <td></td>\n      <td>272</td>\n      <td>0</td>\n      <td></td>\n      <td>1</td>\n      <td>2389939</td>\n      <td>11</td>\n      <td>11</td>\n      <td>Alejandro 1559 [COALITION]</td>\n      <td>1</td>\n      <td>...</td>\n      <td>[]</td>\n      <td>-1</td>\n      <td>3R Sand &amp; Sequoias - 1 Lap (20km/12.5mi 173m)</td>\n      <td>TYPE_RACE TYPE_RACE</td>\n      <td>23</td>\n      <td>1636279800</td>\n      <td>604330868</td>\n      <td>1</td>\n      <td></td>\n      <td>2</td>\n    </tr>\n    <tr>\n      <th>22</th>\n      <td></td>\n      <td>272</td>\n      <td>0</td>\n      <td></td>\n      <td>1</td>\n      <td>2396101</td>\n      <td>2</td>\n      <td>2</td>\n      <td>Alejandro 1559 [COALITION]</td>\n      <td>1</td>\n      <td>...</td>\n      <td>[]</td>\n      <td>-1</td>\n      <td>WTRL Racing</td>\n      <td>TYPE_RACE TYPE_RACE</td>\n      <td>30</td>\n      <td>1636479000</td>\n      <td>3364574135</td>\n      <td>4</td>\n      <td></td>\n      <td>2</td>\n    </tr>\n    <tr>\n      <th>23</th>\n      <td></td>\n      <td>272</td>\n      <td>0</td>\n      <td></td>\n      <td>2</td>\n      <td>2405638</td>\n      <td>14</td>\n      <td>0</td>\n      <td>Alejandro 1559 [COALITION]</td>\n      <td>1</td>\n      <td>...</td>\n      <td>[]</td>\n      <td>-1</td>\n      <td>Ascenders Team Weekend Challenge</td>\n      <td>TYPE_RACE TYPE_RACE</td>\n      <td>46</td>\n      <td>1636795800</td>\n      <td>2969952077</td>\n      <td>1</td>\n      <td></td>\n      <td>2</td>\n    </tr>\n    <tr>\n      <th>24</th>\n      <td></td>\n      <td>272</td>\n      <td>0</td>\n      <td></td>\n      <td>1</td>\n      <td>2414454</td>\n      <td>9</td>\n      <td>9</td>\n      <td>Alejandro 1559 [COALITION]</td>\n      <td>1</td>\n      <td>...</td>\n      <td>[]</td>\n      <td>-1</td>\n      <td>NonStop Madrid-Lisboa Race Day</td>\n      <td>TYPE_RACE TYPE_RACE</td>\n      <td>25</td>\n      <td>1637082000</td>\n      <td>986252325</td>\n      <td>1</td>\n      <td></td>\n      <td>2</td>\n    </tr>\n    <tr>\n      <th>25</th>\n      <td></td>\n      <td>272</td>\n      <td>0</td>\n      <td></td>\n      <td>1</td>\n      <td>2417451</td>\n      <td>16</td>\n      <td>16</td>\n      <td>Alejandro 1559 [COALITION]</td>\n      <td>1</td>\n      <td>...</td>\n      <td>[]</td>\n      <td>-1</td>\n      <td>Team Italy Specialissima Race</td>\n      <td>TYPE_RACE TYPE_RACE</td>\n      <td>27</td>\n      <td>1637163600</td>\n      <td>872351836</td>\n      <td>1</td>\n      <td></td>\n      <td>2</td>\n    </tr>\n    <tr>\n      <th>26</th>\n      <td></td>\n      <td>272</td>\n      <td>0</td>\n      <td></td>\n      <td>1</td>\n      <td>2425330</td>\n      <td>4</td>\n      <td>4</td>\n      <td>Alejandro 1559 [COALITION]</td>\n      <td>1</td>\n      <td>...</td>\n      <td>[]</td>\n      <td>-1</td>\n      <td>ZHQ FutureWorks Circuit Race - Anti-sandbagging</td>\n      <td>TYPE_RACE TYPE_RACE</td>\n      <td>23</td>\n      <td>1637415000</td>\n      <td>3364574135</td>\n      <td>3</td>\n      <td></td>\n      <td>2</td>\n    </tr>\n    <tr>\n      <th>27</th>\n      <td></td>\n      <td>272</td>\n      <td>0</td>\n      <td></td>\n      <td>1</td>\n      <td>2425343</td>\n      <td>7</td>\n      <td>7</td>\n      <td>Alejandro 1559 [COALITION]</td>\n      <td>1</td>\n      <td>...</td>\n      <td>[]</td>\n      <td>-1</td>\n      <td>CCBoucherville-V2000 FUN Races</td>\n      <td>TYPE_RACE TYPE_RACE</td>\n      <td>37</td>\n      <td>1637418000</td>\n      <td>3994934674</td>\n      <td>3</td>\n      <td></td>\n      <td>2</td>\n    </tr>\n    <tr>\n      <th>28</th>\n      <td></td>\n      <td>272</td>\n      <td>0</td>\n      <td></td>\n      <td>1</td>\n      <td>2431329</td>\n      <td>15</td>\n      <td>15</td>\n      <td>Alejandro 1559 [COALITION]</td>\n      <td>1</td>\n      <td>...</td>\n      <td>[]</td>\n      <td>-1</td>\n      <td>3R Queens Highway Race - 6 Laps</td>\n      <td>TYPE_RACE TYPE_RACE</td>\n      <td>21</td>\n      <td>1637600400</td>\n      <td>3007266671</td>\n      <td>6</td>\n      <td></td>\n      <td>2</td>\n    </tr>\n    <tr>\n      <th>29</th>\n      <td></td>\n      <td>272</td>\n      <td>0</td>\n      <td></td>\n      <td>1</td>\n      <td>2434693</td>\n      <td>18</td>\n      <td>18</td>\n      <td>Alejandro 1559 [COALITION]</td>\n      <td>1</td>\n      <td>...</td>\n      <td>[]</td>\n      <td>-1</td>\n      <td>NonStop Madrid-Lisboa Race Day</td>\n      <td>TYPE_RACE TYPE_RACE</td>\n      <td>25</td>\n      <td>1637686800</td>\n      <td>986252325</td>\n      <td>1</td>\n      <td></td>\n      <td>2</td>\n    </tr>\n    <tr>\n      <th>30</th>\n      <td></td>\n      <td>272</td>\n      <td>0</td>\n      <td></td>\n      <td>1</td>\n      <td>2437674</td>\n      <td>55</td>\n      <td>7</td>\n      <td>Alejandro 1559 [COALITION]</td>\n      <td>1</td>\n      <td>...</td>\n      <td>[]</td>\n      <td>-1</td>\n      <td>ZHR Hare &amp; Hounds</td>\n      <td>TYPE_RACE TYPE_RACE</td>\n      <td>41</td>\n      <td>1637775000</td>\n      <td>3395698268</td>\n      <td>4</td>\n      <td></td>\n      <td>2</td>\n    </tr>\n    <tr>\n      <th>31</th>\n      <td></td>\n      <td>272</td>\n      <td>0</td>\n      <td></td>\n      <td>1</td>\n      <td>2443198</td>\n      <td>16</td>\n      <td>16</td>\n      <td>Alejandro 1559 [COALITION]</td>\n      <td>1</td>\n      <td>...</td>\n      <td>[]</td>\n      <td>-1</td>\n      <td>ZHR The Great Escape</td>\n      <td>TYPE_RACE TYPE_RACE</td>\n      <td>40</td>\n      <td>1637947800</td>\n      <td>387309391</td>\n      <td>1</td>\n      <td></td>\n      <td>2</td>\n    </tr>\n    <tr>\n      <th>32</th>\n      <td></td>\n      <td>272</td>\n      <td>0</td>\n      <td></td>\n      <td>1</td>\n      <td>2452619</td>\n      <td>14</td>\n      <td>14</td>\n      <td>Alejandro 1559 [COALITION]</td>\n      <td>1</td>\n      <td>...</td>\n      <td>[]</td>\n      <td>-1</td>\n      <td>Team DRAFT Monday Race</td>\n      <td>TYPE_RACE TYPE_RACE</td>\n      <td>22</td>\n      <td>1638199800</td>\n      <td>3312037616</td>\n      <td>3</td>\n      <td></td>\n      <td>2</td>\n    </tr>\n    <tr>\n      <th>33</th>\n      <td></td>\n      <td>272</td>\n      <td>0</td>\n      <td></td>\n      <td>1</td>\n      <td>2463509</td>\n      <td>5</td>\n      <td>5</td>\n      <td>Alejandro 1559 [COALITION]</td>\n      <td>1</td>\n      <td>...</td>\n      <td>[]</td>\n      <td>-1</td>\n      <td>ZHQ FutureWorks Circuit Race - Anti-sandbagging</td>\n      <td>TYPE_RACE TYPE_RACE</td>\n      <td>23</td>\n      <td>1638466200</td>\n      <td>3364574135</td>\n      <td>3</td>\n      <td></td>\n      <td>2</td>\n    </tr>\n    <tr>\n      <th>34</th>\n      <td></td>\n      <td>272</td>\n      <td>0</td>\n      <td></td>\n      <td>1</td>\n      <td>2556004</td>\n      <td>33</td>\n      <td>33</td>\n      <td>Alejandro 1559 [COALITION]</td>\n      <td>1</td>\n      <td>...</td>\n      <td>[]</td>\n      <td>-1</td>\n      <td>3R Classique Reverse Flat Race - 4 Laps (26.9k...</td>\n      <td>TYPE_RACE TYPE_RACE</td>\n      <td>29</td>\n      <td>1640621400</td>\n      <td>3599973269</td>\n      <td>4</td>\n      <td></td>\n      <td>2</td>\n    </tr>\n    <tr>\n      <th>35</th>\n      <td></td>\n      <td>272</td>\n      <td>0</td>\n      <td></td>\n      <td>1</td>\n      <td>2579776</td>\n      <td>22</td>\n      <td>22</td>\n      <td>Alejandro 1559 [COALITION]</td>\n      <td>1</td>\n      <td>...</td>\n      <td>[]</td>\n      <td>-1</td>\n      <td>3R Queens Highway Race - 6 Laps</td>\n      <td>TYPE_RACE TYPE_RACE</td>\n      <td>21</td>\n      <td>1641229200</td>\n      <td>3007266671</td>\n      <td>6</td>\n      <td></td>\n      <td>2</td>\n    </tr>\n    <tr>\n      <th>36</th>\n      <td></td>\n      <td>272</td>\n      <td>0</td>\n      <td></td>\n      <td>1</td>\n      <td>2593320</td>\n      <td>36</td>\n      <td>36</td>\n      <td>Alejandro 1559 [COALITION]</td>\n      <td>1</td>\n      <td>...</td>\n      <td>[]</td>\n      <td>-1</td>\n      <td>3R Volcano Flat Race - 3 Laps (36.6km/22.7mi 1...</td>\n      <td>TYPE_RACE TYPE_RACE</td>\n      <td>37</td>\n      <td>1641571500</td>\n      <td>3994934674</td>\n      <td>3</td>\n      <td></td>\n      <td>2</td>\n    </tr>\n    <tr>\n      <th>37</th>\n      <td></td>\n      <td>272</td>\n      <td>0</td>\n      <td></td>\n      <td>1</td>\n      <td>2605228</td>\n      <td>21</td>\n      <td>21</td>\n      <td>Alejandro 1559 [COALITION]</td>\n      <td>1</td>\n      <td>...</td>\n      <td>[]</td>\n      <td>-1</td>\n      <td>3R Racing</td>\n      <td>TYPE_RACE TYPE_RACE</td>\n      <td>29</td>\n      <td>1641831000</td>\n      <td>3599973269</td>\n      <td>4</td>\n      <td></td>\n      <td>2</td>\n    </tr>\n  </tbody>\n</table>\n<p>38 rows × 86 columns</p>\n</div>"
     },
     "execution_count": 192,
     "metadata": {},
     "output_type": "execute_result"
    }
   ],
   "source": [
    "dz"
   ],
   "metadata": {
    "collapsed": false,
    "pycharm": {
     "name": "#%%\n"
    }
   }
  },
  {
   "cell_type": "code",
   "execution_count": 193,
   "outputs": [
    {
     "ename": "TypeError",
     "evalue": "unsupported operand type(s) for -: 'str' and 'str'",
     "output_type": "error",
     "traceback": [
      "\u001B[0;31m---------------------------------------------------------------------------\u001B[0m",
      "\u001B[0;31mTypeError\u001B[0m                                 Traceback (most recent call last)",
      "\u001B[0;32m/var/folders/ws/fxkt11312z72pj86tr26spfr0000gn/T/ipykernel_75798/1849374539.py\u001B[0m in \u001B[0;36m<module>\u001B[0;34m\u001B[0m\n\u001B[0;32m----> 1\u001B[0;31m \u001B[0mdz\u001B[0m\u001B[0;34m[\u001B[0m\u001B[0;34m'diff1'\u001B[0m\u001B[0;34m]\u001B[0m \u001B[0;34m=\u001B[0m \u001B[0mdz\u001B[0m\u001B[0;34m[\u001B[0m\u001B[0;34m'weight'\u001B[0m\u001B[0;34m]\u001B[0m\u001B[0;34m.\u001B[0m\u001B[0mdiff\u001B[0m\u001B[0;34m(\u001B[0m\u001B[0;34m)\u001B[0m\u001B[0;34m\u001B[0m\u001B[0;34m\u001B[0m\u001B[0m\n\u001B[0m\u001B[1;32m      2\u001B[0m \u001B[0mdz\u001B[0m\u001B[0;34m[\u001B[0m\u001B[0;34m'change'\u001B[0m\u001B[0;34m]\u001B[0m \u001B[0;34m=\u001B[0m \u001B[0mdz\u001B[0m\u001B[0;34m[\u001B[0m\u001B[0;34m'diff1'\u001B[0m\u001B[0;34m]\u001B[0m \u001B[0;34m!=\u001B[0m \u001B[0mdz\u001B[0m\u001B[0;34m[\u001B[0m\u001B[0;34m'weight'\u001B[0m\u001B[0;34m]\u001B[0m\u001B[0;34m\u001B[0m\u001B[0;34m\u001B[0m\u001B[0m\n",
      "\u001B[0;32m~/opt/anaconda3/envs/Zwiftpower_tools/lib/python3.9/site-packages/pandas/core/series.py\u001B[0m in \u001B[0;36mdiff\u001B[0;34m(self, periods)\u001B[0m\n\u001B[1;32m   2646\u001B[0m         \u001B[0;34m{\u001B[0m\u001B[0mexamples\u001B[0m\u001B[0;34m}\u001B[0m\u001B[0;34m\u001B[0m\u001B[0;34m\u001B[0m\u001B[0m\n\u001B[1;32m   2647\u001B[0m         \"\"\"\n\u001B[0;32m-> 2648\u001B[0;31m         \u001B[0mresult\u001B[0m \u001B[0;34m=\u001B[0m \u001B[0malgorithms\u001B[0m\u001B[0;34m.\u001B[0m\u001B[0mdiff\u001B[0m\u001B[0;34m(\u001B[0m\u001B[0mself\u001B[0m\u001B[0;34m.\u001B[0m\u001B[0m_values\u001B[0m\u001B[0;34m,\u001B[0m \u001B[0mperiods\u001B[0m\u001B[0;34m)\u001B[0m\u001B[0;34m\u001B[0m\u001B[0;34m\u001B[0m\u001B[0m\n\u001B[0m\u001B[1;32m   2649\u001B[0m         return self._constructor(result, index=self.index).__finalize__(\n\u001B[1;32m   2650\u001B[0m             \u001B[0mself\u001B[0m\u001B[0;34m,\u001B[0m \u001B[0mmethod\u001B[0m\u001B[0;34m=\u001B[0m\u001B[0;34m\"diff\"\u001B[0m\u001B[0;34m\u001B[0m\u001B[0;34m\u001B[0m\u001B[0m\n",
      "\u001B[0;32m~/opt/anaconda3/envs/Zwiftpower_tools/lib/python3.9/site-packages/pandas/core/algorithms.py\u001B[0m in \u001B[0;36mdiff\u001B[0;34m(arr, n, axis, stacklevel)\u001B[0m\n\u001B[1;32m   1709\u001B[0m         \u001B[0mlag_indexer\u001B[0m \u001B[0;34m=\u001B[0m \u001B[0mtuple\u001B[0m\u001B[0;34m(\u001B[0m\u001B[0m_lag_indexer\u001B[0m\u001B[0;34m)\u001B[0m\u001B[0;34m\u001B[0m\u001B[0;34m\u001B[0m\u001B[0m\n\u001B[1;32m   1710\u001B[0m \u001B[0;34m\u001B[0m\u001B[0m\n\u001B[0;32m-> 1711\u001B[0;31m         \u001B[0mout_arr\u001B[0m\u001B[0;34m[\u001B[0m\u001B[0mres_indexer\u001B[0m\u001B[0;34m]\u001B[0m \u001B[0;34m=\u001B[0m \u001B[0mop\u001B[0m\u001B[0;34m(\u001B[0m\u001B[0marr\u001B[0m\u001B[0;34m[\u001B[0m\u001B[0mres_indexer\u001B[0m\u001B[0;34m]\u001B[0m\u001B[0;34m,\u001B[0m \u001B[0marr\u001B[0m\u001B[0;34m[\u001B[0m\u001B[0mlag_indexer\u001B[0m\u001B[0;34m]\u001B[0m\u001B[0;34m)\u001B[0m\u001B[0;34m\u001B[0m\u001B[0;34m\u001B[0m\u001B[0m\n\u001B[0m\u001B[1;32m   1712\u001B[0m \u001B[0;34m\u001B[0m\u001B[0m\n\u001B[1;32m   1713\u001B[0m     \u001B[0;32mif\u001B[0m \u001B[0mis_timedelta\u001B[0m\u001B[0;34m:\u001B[0m\u001B[0;34m\u001B[0m\u001B[0;34m\u001B[0m\u001B[0m\n",
      "\u001B[0;31mTypeError\u001B[0m: unsupported operand type(s) for -: 'str' and 'str'"
     ]
    }
   ],
   "source": [
    "dz['diff1'] = dz['weight'].diff()\n",
    "dz['change'] = dz['diff1'] != dz['weight']"
   ],
   "metadata": {
    "collapsed": false,
    "pycharm": {
     "name": "#%%\n"
    }
   }
  },
  {
   "cell_type": "code",
   "execution_count": 194,
   "outputs": [
    {
     "data": {
      "text/plain": "2"
     },
     "execution_count": 194,
     "metadata": {},
     "output_type": "execute_result"
    }
   ],
   "source": [
    "# dz['weight'].diff()\n",
    "# dz['weight'].diff()\n",
    "(dz['weight'] != dz['weight'].shift(1)).sum()"
   ],
   "metadata": {
    "collapsed": false,
    "pycharm": {
     "name": "#%%\n"
    }
   }
  },
  {
   "cell_type": "code",
   "execution_count": 195,
   "outputs": [
    {
     "data": {
      "text/plain": "0     67.0\n1     67.0\n2     67.0\n3     66.0\n4     66.0\n5     66.0\n6     66.0\n7     66.0\n8     66.0\n9     66.0\n10    66.0\n11    66.0\n12    66.0\n13    66.0\n14    66.0\n15    66.0\n16    66.0\n17    66.0\n18    66.0\n19    66.0\n20    66.0\n21    66.0\n22    66.0\n23    66.0\n24    66.0\n25    66.0\n26    66.0\n27    66.0\n28    66.0\n29    66.0\n30    66.0\n31    66.0\n32    66.0\n33    66.0\n34    66.0\n35    66.0\n36    66.0\n37    66.0\nName: weight, dtype: object"
     },
     "execution_count": 195,
     "metadata": {},
     "output_type": "execute_result"
    }
   ],
   "source": [
    "dz['weight']"
   ],
   "metadata": {
    "collapsed": false,
    "pycharm": {
     "name": "#%%\n"
    }
   }
  },
  {
   "cell_type": "code",
   "execution_count": null,
   "outputs": [],
   "source": [],
   "metadata": {
    "collapsed": false,
    "pycharm": {
     "name": "#%%\n"
    }
   }
  }
 ],
 "metadata": {
  "kernelspec": {
   "display_name": "Python 3",
   "language": "python",
   "name": "python3"
  },
  "language_info": {
   "codemirror_mode": {
    "name": "ipython",
    "version": 2
   },
   "file_extension": ".py",
   "mimetype": "text/x-python",
   "name": "python",
   "nbconvert_exporter": "python",
   "pygments_lexer": "ipython2",
   "version": "2.7.6"
  }
 },
 "nbformat": 4,
 "nbformat_minor": 0
}